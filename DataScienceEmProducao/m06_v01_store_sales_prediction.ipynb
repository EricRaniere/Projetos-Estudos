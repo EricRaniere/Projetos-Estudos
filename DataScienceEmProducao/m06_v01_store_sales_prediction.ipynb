{
 "cells": [
  {
   "cell_type": "markdown",
   "id": "incorporated-password",
   "metadata": {},
   "source": [
    "# 0.0. IMPORTS"
   ]
  },
  {
   "cell_type": "code",
   "execution_count": 8,
   "id": "forced-active",
   "metadata": {},
   "outputs": [
    {
     "ename": "ModuleNotFoundError",
     "evalue": "No module named 'inflection'",
     "output_type": "error",
     "traceback": [
      "\u001b[1;31m---------------------------------------------------------------------------\u001b[0m",
      "\u001b[1;31mModuleNotFoundError\u001b[0m                       Traceback (most recent call last)",
      "\u001b[1;32m<ipython-input-8-0b1d5c0aa3c8>\u001b[0m in \u001b[0;36m<module>\u001b[1;34m\u001b[0m\n\u001b[0;32m      2\u001b[0m \u001b[1;32mimport\u001b[0m \u001b[0mnumpy\u001b[0m \u001b[1;32mas\u001b[0m \u001b[0mnp\u001b[0m\u001b[1;33m\u001b[0m\u001b[1;33m\u001b[0m\u001b[0m\n\u001b[0;32m      3\u001b[0m \u001b[1;32mimport\u001b[0m \u001b[0mpandas\u001b[0m \u001b[1;32mas\u001b[0m \u001b[0mpd\u001b[0m\u001b[1;33m\u001b[0m\u001b[1;33m\u001b[0m\u001b[0m\n\u001b[1;32m----> 4\u001b[1;33m \u001b[1;32mimport\u001b[0m \u001b[0minflection\u001b[0m\u001b[1;33m\u001b[0m\u001b[1;33m\u001b[0m\u001b[0m\n\u001b[0m\u001b[0;32m      5\u001b[0m \u001b[1;32mimport\u001b[0m \u001b[0mdatetime\u001b[0m\u001b[1;33m\u001b[0m\u001b[1;33m\u001b[0m\u001b[0m\n\u001b[0;32m      6\u001b[0m \u001b[1;33m\u001b[0m\u001b[0m\n",
      "\u001b[1;31mModuleNotFoundError\u001b[0m: No module named 'inflection'"
     ]
    }
   ],
   "source": [
    "import math \n",
    "import numpy as np\n",
    "import pandas as pd\n",
    "import inflection\n",
    "import datetime\n",
    "\n",
    "import seaborn as sns\n",
    "from scipy                 import stats as ss\n",
    "from matplotlib            import pyplot as plt\n",
    "from IPython.core.display  import HTML\n",
    "from IPython.display       import Image\n",
    "from sklearn.ensemble      import RandomForestRegressor\n",
    "from sklearn.preprocessing import RobustScaler, MinMaxScaler, LabelEncoder\n",
    "from boruta                import BorutaPy"
   ]
  },
  {
   "cell_type": "markdown",
   "id": "consolidated-village",
   "metadata": {},
   "source": [
    "## 0.1. Helper Functions"
   ]
  },
  {
   "cell_type": "code",
   "execution_count": null,
   "id": "valid-corrections",
   "metadata": {},
   "outputs": [],
   "source": [
    "def cramer_v(x,y):\n",
    "    cm = pd.crosstab( x,y ).values\n",
    "    n = cm.sum()\n",
    "    r, k = cm.shape\n",
    "\n",
    "    chi2 = ss.chi2_contingency( cm )[0]\n",
    "    chi2corr = max( 0, chi2 - (k-1)*(r-1)/(n-1))\n",
    "    \n",
    "    kcorr = k - (k-1)**2/(n-1)\n",
    "    rcorr = r - (r-1)**2/(n-1)\n",
    "    \n",
    "    return np.sqrt( (chi2corr/n) / (min( kcorr-1, rcorr-1 ) ) )\n",
    "\n",
    "\n",
    "def jupyter_settings():\n",
    "    %matplotlib inline\n",
    "    %pylab inline\n",
    "    plt.style.use( 'bmh' )\n",
    "    plt.rcParams['figure.figsize'] = [25, 12]\n",
    "    plt.rcParams['font.size'] = 24\n",
    "    display( HTML( '<style>.container { width:100% !important; }</style>') )\n",
    "    pd.options.display.max_columns = None\n",
    "    pd.options.display.max_rows = None\n",
    "    pd.set_option( 'display.expand_frame_repr', False )\n",
    "    sns.set()\n",
    "    \n",
    "jupyter_settings()"
   ]
  },
  {
   "cell_type": "markdown",
   "id": "comic-proposal",
   "metadata": {},
   "source": [
    "## 0.2. Loading data"
   ]
  },
  {
   "cell_type": "code",
   "execution_count": null,
   "id": "corporate-pantyhose",
   "metadata": {},
   "outputs": [],
   "source": [
    "df_sales_raw = pd.read_csv( 'data/train.csv', low_memory=False)\n",
    "df_store_raw = pd.read_csv( 'data/store.csv', low_memory=False)"
   ]
  },
  {
   "cell_type": "code",
   "execution_count": null,
   "id": "digital-yorkshire",
   "metadata": {},
   "outputs": [],
   "source": [
    "#merge\n",
    "\n",
    "df_raw = pd.merge( df_sales_raw, df_store_raw, how='left', on='Store')"
   ]
  },
  {
   "cell_type": "code",
   "execution_count": null,
   "id": "permanent-thing",
   "metadata": {
    "scrolled": true
   },
   "outputs": [],
   "source": [
    "df_raw.sample()"
   ]
  },
  {
   "cell_type": "markdown",
   "id": "optimum-portsmouth",
   "metadata": {},
   "source": [
    "# 1.0. PASSO 01 - DESCRIÇÃO DOS DADOS"
   ]
  },
  {
   "cell_type": "code",
   "execution_count": 9,
   "id": "proprietary-mixture",
   "metadata": {},
   "outputs": [
    {
     "ename": "NameError",
     "evalue": "name 'df_raw' is not defined",
     "output_type": "error",
     "traceback": [
      "\u001b[1;31m---------------------------------------------------------------------------\u001b[0m",
      "\u001b[1;31mNameError\u001b[0m                                 Traceback (most recent call last)",
      "\u001b[1;32m<ipython-input-9-6976811b4bab>\u001b[0m in \u001b[0;36m<module>\u001b[1;34m\u001b[0m\n\u001b[1;32m----> 1\u001b[1;33m \u001b[0mdf1\u001b[0m \u001b[1;33m=\u001b[0m \u001b[0mdf_raw\u001b[0m\u001b[1;33m.\u001b[0m\u001b[0mcopy\u001b[0m\u001b[1;33m(\u001b[0m\u001b[1;33m)\u001b[0m\u001b[1;33m\u001b[0m\u001b[1;33m\u001b[0m\u001b[0m\n\u001b[0m",
      "\u001b[1;31mNameError\u001b[0m: name 'df_raw' is not defined"
     ]
    }
   ],
   "source": [
    "df1 = df_raw.copy()"
   ]
  },
  {
   "cell_type": "markdown",
   "id": "active-provision",
   "metadata": {
    "heading_collapsed": true
   },
   "source": [
    "## 1.1. Rename Columns"
   ]
  },
  {
   "cell_type": "code",
   "execution_count": null,
   "id": "positive-employment",
   "metadata": {
    "hidden": true
   },
   "outputs": [],
   "source": [
    "cols_old = ['Store', 'DayOfWeek', 'Date', 'Sales', 'Customers', 'Open', 'Promo',\n",
    "       'StateHoliday', 'SchoolHoliday', 'StoreType', 'Assortment',\n",
    "       'CompetitionDistance', 'CompetitionOpenSinceMonth',\n",
    "       'CompetitionOpenSinceYear', 'Promo2', 'Promo2SinceWeek',\n",
    "       'Promo2SinceYear', 'PromoInterval']\n",
    "snakecase = lambda x: inflection.underscore( x )\n",
    "\n",
    "cols_new = list( map( snakecase, cols_old))\n",
    "\n",
    "#rename\n",
    "df1.columns = cols_new"
   ]
  },
  {
   "cell_type": "markdown",
   "id": "turkish-sending",
   "metadata": {
    "heading_collapsed": true
   },
   "source": [
    "## 1.2. Data Dimensions"
   ]
  },
  {
   "cell_type": "code",
   "execution_count": null,
   "id": "noted-intervention",
   "metadata": {
    "hidden": true
   },
   "outputs": [],
   "source": [
    "print ( 'Number of Rows: {}' .format(df1.shape[0] ) )\n",
    "print ( 'Number of Cols: {}' .format(df1.shape[1] ) )"
   ]
  },
  {
   "cell_type": "markdown",
   "id": "entitled-electronics",
   "metadata": {
    "heading_collapsed": true
   },
   "source": [
    "## 1.3. Data Types"
   ]
  },
  {
   "cell_type": "code",
   "execution_count": null,
   "id": "unknown-insured",
   "metadata": {
    "hidden": true
   },
   "outputs": [],
   "source": [
    "df1['date'] = pd.to_datetime( df1['date'])\n",
    "df1.dtypes"
   ]
  },
  {
   "cell_type": "markdown",
   "id": "individual-arnold",
   "metadata": {
    "heading_collapsed": true
   },
   "source": [
    "## 1.4. Check NA"
   ]
  },
  {
   "cell_type": "code",
   "execution_count": null,
   "id": "affected-senior",
   "metadata": {
    "hidden": true
   },
   "outputs": [],
   "source": [
    "df1.isna().sum()"
   ]
  },
  {
   "cell_type": "markdown",
   "id": "mature-nursery",
   "metadata": {
    "heading_collapsed": true
   },
   "source": [
    "## 1.5. Fillout NA"
   ]
  },
  {
   "cell_type": "code",
   "execution_count": null,
   "id": "current-space",
   "metadata": {
    "hidden": true
   },
   "outputs": [],
   "source": [
    "df1.sample()"
   ]
  },
  {
   "cell_type": "code",
   "execution_count": null,
   "id": "downtown-appeal",
   "metadata": {
    "hidden": true
   },
   "outputs": [],
   "source": [
    "#competition_distance   \n",
    "df1.competition_distance.fillna(200000., inplace=True)\n",
    "\n",
    "#competition_open_since_month \n",
    "df1.competition_open_since_month.fillna(df1.date.dt.month, inplace=True)\n",
    "\n",
    "#competition_open_since_year\n",
    "df1.competition_open_since_year.fillna(df1.date.dt.year, inplace=True)\n",
    "\n",
    "#promo2_since_week\n",
    "df1.promo2_since_week.fillna(df1.date.dt.isocalendar().week, inplace=True)\n",
    "\n",
    "#promo2_since_year\n",
    "df1.promo2_since_year.fillna(df1.date.dt.year, inplace=True)\n",
    "\n",
    "# substitui os 0 para '', assim não será necessário um dos if's do is_promo\n",
    "df1['promo_interval'].replace(0, '', inplace=True)\n",
    "# mesmo aqui\n",
    "df1['promo_interval'].fillna('', inplace=True) \n",
    "\n",
    "# obtem a abreviatura do mês\n",
    "df1['month_map'] = df1['date'].dt.strftime(\"%b\") \n",
    "\n",
    "# como não tem 0's mais, tudo vai ser string, então podemos remover aqueles if's\n",
    "df1['is_promo'] = df1[['promo_interval', 'month_map']].apply(lambda x: x['month_map'] in x['promo_interval'].split( ',' ), axis='columns').astype('int')"
   ]
  },
  {
   "cell_type": "markdown",
   "id": "specific-equality",
   "metadata": {
    "heading_collapsed": true
   },
   "source": [
    "## 1.6. Change Types"
   ]
  },
  {
   "cell_type": "code",
   "execution_count": null,
   "id": "armed-wagner",
   "metadata": {
    "hidden": true
   },
   "outputs": [],
   "source": [
    "df1.dtypes"
   ]
  },
  {
   "cell_type": "code",
   "execution_count": null,
   "id": "coupled-serum",
   "metadata": {
    "hidden": true
   },
   "outputs": [],
   "source": [
    "df1['competition_open_since_month'] = df1['competition_open_since_month'].astype( 'int64' )\n",
    "df1['competition_open_since_year'] = df1['competition_open_since_year'].astype( 'int64' )\n",
    "\n",
    "df1['promo2_since_week'] = df1['promo2_since_week'].astype( 'int64' )\n",
    "df1['promo2_since_year'] = df1['promo2_since_year'].astype( 'int64' )\n",
    "\n",
    "df1['is_promo'] = df1['is_promo'].astype( 'int64' )"
   ]
  },
  {
   "cell_type": "markdown",
   "id": "compound-kenya",
   "metadata": {
    "heading_collapsed": true
   },
   "source": [
    "## 1.7. Descriptive Statistical"
   ]
  },
  {
   "cell_type": "code",
   "execution_count": null,
   "id": "finnish-crash",
   "metadata": {
    "hidden": true
   },
   "outputs": [],
   "source": [
    "num_attributes = df1.select_dtypes( include=['int64', 'float64'])\n",
    "cat_attributes = df1.select_dtypes( exclude=['int64', 'float64', 'datetime64[ns]'])"
   ]
  },
  {
   "cell_type": "markdown",
   "id": "gross-turkish",
   "metadata": {
    "heading_collapsed": true,
    "hidden": true
   },
   "source": [
    "### 1.7.1 Numerical Attributes"
   ]
  },
  {
   "cell_type": "code",
   "execution_count": null,
   "id": "affecting-richards",
   "metadata": {
    "hidden": true
   },
   "outputs": [],
   "source": [
    "# Central Tendency - mean, median\n",
    "ct1 = pd.DataFrame( num_attributes.apply( np.mean )).T\n",
    "ct2 = pd.DataFrame( num_attributes.apply( np.median )).T\n",
    "\n",
    "# Dispersion - std, min, max, range, skew, kurtosis\n",
    "d1 = pd.DataFrame( num_attributes.apply( np.std )).T\n",
    "d2 = pd.DataFrame( num_attributes.apply( min )).T\n",
    "d3 = pd.DataFrame( num_attributes.apply( max )).T\n",
    "d4 = pd.DataFrame( num_attributes.apply( lambda x: x.max() - x.min() )).T\n",
    "d5 = pd.DataFrame( num_attributes.apply( lambda x: x.skew() )).T\n",
    "d6 = pd.DataFrame( num_attributes.apply( lambda x: x.kurtosis() )).T\n",
    "\n",
    "#concatenate\n",
    "m = pd.concat( [d2, d3, d4, ct1, ct2, d1, d5, d6] ).T.reset_index()\n",
    "m.columns = ['attribute', 'min', 'max', 'range', 'mean', 'median', 'std', 'skew', 'kurtosis']\n",
    "m.head(5)"
   ]
  },
  {
   "cell_type": "markdown",
   "id": "conditional-taylor",
   "metadata": {
    "heading_collapsed": true,
    "hidden": true
   },
   "source": [
    "### 1.7.2 Categorical Attributes"
   ]
  },
  {
   "cell_type": "code",
   "execution_count": null,
   "id": "accurate-winner",
   "metadata": {
    "hidden": true
   },
   "outputs": [],
   "source": [
    "cat_attributes.apply( lambda x: x.unique().shape[0])"
   ]
  },
  {
   "cell_type": "code",
   "execution_count": null,
   "id": "experimental-vinyl",
   "metadata": {
    "hidden": true,
    "hide_input": true,
    "scrolled": true
   },
   "outputs": [],
   "source": [
    "aux1 = df1[(df1['state_holiday'] != '0' ) & (df1['sales'] > 0)] \n",
    "\n",
    "plt.subplot(1,3,1)\n",
    "sns.boxplot( x='state_holiday', y='sales', data= aux1)\n",
    "\n",
    "plt.subplot(1,3,2)\n",
    "sns.boxplot( x='store_type', y='sales', data= aux1)\n",
    "\n",
    "plt.subplot(1,3,3)\n",
    "plt.tight_layout()\n",
    "sns.boxplot( x='assortment', y='sales', data= aux1)"
   ]
  },
  {
   "cell_type": "markdown",
   "id": "agreed-uzbekistan",
   "metadata": {},
   "source": [
    "# 2.0. PASSO 02 - FEATURE ENGINEERING"
   ]
  },
  {
   "cell_type": "code",
   "execution_count": null,
   "id": "interstate-prison",
   "metadata": {},
   "outputs": [],
   "source": [
    "df2 = df1.copy()"
   ]
  },
  {
   "cell_type": "markdown",
   "id": "dressed-administrator",
   "metadata": {
    "heading_collapsed": true
   },
   "source": [
    "## 2.1. Mapa Mental de Hipóteses"
   ]
  },
  {
   "cell_type": "code",
   "execution_count": null,
   "id": "civic-tamil",
   "metadata": {
    "hidden": true
   },
   "outputs": [],
   "source": [
    "Image('img\\MindMapHypothesis.png')"
   ]
  },
  {
   "cell_type": "markdown",
   "id": "broad-tobacco",
   "metadata": {
    "heading_collapsed": true
   },
   "source": [
    "## 2.2. Criacao das Hipoteses\n"
   ]
  },
  {
   "cell_type": "markdown",
   "id": "balanced-novelty",
   "metadata": {
    "heading_collapsed": true,
    "hidden": true
   },
   "source": [
    "### 2.2.1 Hipoteses Loja"
   ]
  },
  {
   "cell_type": "markdown",
   "id": "decreased-isolation",
   "metadata": {
    "hidden": true
   },
   "source": [
    "**1.** Lojas com maior quadro de funcionarios deveriam vender.\n",
    "\n",
    "**2.** Lojas com maior estoque deveriam vender mais.\n",
    "\n",
    "**3.** Lojas com maior porte deveriam vender mais. \n",
    "\n",
    "**4.** Lojas com menor porte deveriam vender menos. \n",
    "\n",
    "**5.** Lojas com maior sortimento deveriam vender mais."
   ]
  },
  {
   "cell_type": "markdown",
   "id": "atlantic-diagnosis",
   "metadata": {
    "heading_collapsed": true,
    "hidden": true
   },
   "source": [
    "### 2.2.2 Hipoteses Produto"
   ]
  },
  {
   "cell_type": "markdown",
   "id": "peripheral-orlando",
   "metadata": {
    "hidden": true
   },
   "source": [
    "**1.** Lojas que investem mais em Marketing deveriam vender mais.\n",
    "\n",
    "**2.** Lojas que expoe mais os produtos nas vitrines deveriam vender mais.\n",
    "\n",
    "**3.** Lojas que tem precos menores nos produtos deveriam vender mais.\n",
    "\n",
    "**4.** Lojas que tem precos menores por mais tempo deveriam vender mais."
   ]
  },
  {
   "cell_type": "markdown",
   "id": "manual-director",
   "metadata": {
    "heading_collapsed": true,
    "hidden": true
   },
   "source": [
    "### 2.2.3 Hipoteses tempo"
   ]
  },
  {
   "cell_type": "markdown",
   "id": "presidential-husband",
   "metadata": {
    "hidden": true
   },
   "source": [
    "**1.** Lojas que que tem mais feriados deveriam vender menos.\n",
    "\n",
    "**2.** Lojas que abrem nos primeiros 6 meses deveriam vender mais\n",
    "\n",
    "**3.** Lojas que abrem nos finais de semana deveriam vender mais."
   ]
  },
  {
   "cell_type": "markdown",
   "id": "loving-three",
   "metadata": {
    "heading_collapsed": true
   },
   "source": [
    "## 2.3. Lista Final de Hipóteses"
   ]
  },
  {
   "cell_type": "markdown",
   "id": "spread-syndication",
   "metadata": {
    "heading_collapsed": true,
    "hidden": true
   },
   "source": [
    "### Prioridade serão as hipósteses que já possuem dados para serem validadas\n",
    "\n",
    "**1.** Lojas com maior sortimentos deveriam vender mais.\n",
    "\n",
    "**2.** Lojas com mais dias de promoção deveriam vender mais.\n",
    "\n",
    "**3.** Lojas com competidores à mais tempo deveriam vender mais.\n",
    "\n",
    "**4.** Lojas com promoções ativas por mais tempo deveriam vender mais.\n",
    "\n",
    "**5.** Lojas com mais dias de promoção deveriam vender mais.\n",
    "\n",
    "**6.** Lojas com mais promoções consecutivas deveriam vender mais.\n",
    "\n",
    "**7.** Lojas abertas durante o feriado de natal deveriam vender mais.\n",
    "\n",
    "**8.** Lojas deveriam vender mais ao longo dos anos.\n",
    "\n",
    "**9.** Lojas deveriam vender mais no segundo semestre do ano.\n",
    "\n",
    "**10.** Lojas deveriam vender mais depois do dia 10 de cada mês.\n",
    "\n",
    "**11.** Lojas deveriam vender menos aos finais de semana.\n",
    "\n",
    "**12.** Lojas deveriam vender menos durante feriados escolares."
   ]
  },
  {
   "cell_type": "markdown",
   "id": "parental-explosion",
   "metadata": {
    "heading_collapsed": true
   },
   "source": [
    "## 2.4. Feature Engineering"
   ]
  },
  {
   "cell_type": "code",
   "execution_count": null,
   "id": "expressed-priority",
   "metadata": {
    "hidden": true
   },
   "outputs": [],
   "source": [
    "# year\n",
    "df2['year'] = df2['date'].dt.year\n",
    "\n",
    "# month\n",
    "df2['month'] = df2['date'].dt.month\n",
    "\n",
    "# day\n",
    "df2['day'] = df2['date'].dt.day\n",
    "\n",
    "# week of year\n",
    "df2['week_of_year'] = df2['date'].dt.isocalendar().week\n",
    "\n",
    "# year week\n",
    "df2['year_week'] = df2['date'].dt.strftime( '%Y-%W' )\n",
    "\n",
    "# competition since\n",
    "df2[ 'competition_since'] = df2.apply( lambda x: datetime.datetime( year=x['competition_open_since_year'], month=x['competition_open_since_month'], day=1), axis=1)\n",
    "df2['competition_time_month'] = ((df2['date'] - df2['competition_since'])/30).apply(lambda x: x.days).astype(int)\n",
    "# promo since\n",
    "df2['promo_since'] = df2['promo2_since_year'].astype(str) + '-' + df2['promo2_since_week'].astype(str)\n",
    "df2['promo_since'] = df2['promo_since'].apply( lambda x: datetime.datetime.strptime( x + '-1', '%Y-%W-%w')- datetime.timedelta( days=7))\n",
    "df2['promo_time_week'] = ((df2['date'] - df2['promo_since'])/7).apply(lambda x: x.days).astype(int)\n",
    "\n",
    "# assortment\n",
    "df2['assortment'] = df2['assortment'].apply( lambda  x: 'basic' if x == 'a' else 'extra' if x == 'b' else 'extended')\n",
    "# state holiday\n",
    "df2['state_holiday'] = df2['state_holiday'].apply( lambda  x: 'public_holiday' if x == 'a' else 'easter_holiday' if x == 'b' else 'christmas' if x == 'c' else 'regular_day')"
   ]
  },
  {
   "cell_type": "code",
   "execution_count": null,
   "id": "technological-hebrew",
   "metadata": {
    "hidden": true
   },
   "outputs": [],
   "source": [
    "cat_attributes.apply( lambda x: x.unique().shape[0])"
   ]
  },
  {
   "cell_type": "code",
   "execution_count": null,
   "id": "stopped-welcome",
   "metadata": {
    "hidden": true
   },
   "outputs": [],
   "source": [
    "df2.head(4)"
   ]
  },
  {
   "cell_type": "code",
   "execution_count": null,
   "id": "concrete-appearance",
   "metadata": {
    "hidden": true
   },
   "outputs": [],
   "source": [
    "df2.sample(10)"
   ]
  },
  {
   "cell_type": "markdown",
   "id": "developing-difference",
   "metadata": {},
   "source": [
    "# 3.0. PASSO 03 - FILTRAGEM DE VARIÁVEIS"
   ]
  },
  {
   "cell_type": "code",
   "execution_count": null,
   "id": "lightweight-cornwall",
   "metadata": {},
   "outputs": [],
   "source": [
    "df3 = df2.copy()"
   ]
  },
  {
   "cell_type": "code",
   "execution_count": null,
   "id": "hearing-edinburgh",
   "metadata": {},
   "outputs": [],
   "source": [
    "df3.head()"
   ]
  },
  {
   "cell_type": "code",
   "execution_count": 10,
   "id": "republican-profile",
   "metadata": {},
   "outputs": [
    {
     "ename": "NameError",
     "evalue": "name 'df3' is not defined",
     "output_type": "error",
     "traceback": [
      "\u001b[1;31m---------------------------------------------------------------------------\u001b[0m",
      "\u001b[1;31mNameError\u001b[0m                                 Traceback (most recent call last)",
      "\u001b[1;32m<ipython-input-10-2f69bf5509f2>\u001b[0m in \u001b[0;36m<module>\u001b[1;34m\u001b[0m\n\u001b[1;32m----> 1\u001b[1;33m \u001b[0mdf3\u001b[0m\u001b[1;33m.\u001b[0m\u001b[0msample\u001b[0m\u001b[1;33m(\u001b[0m\u001b[1;36m10\u001b[0m\u001b[1;33m)\u001b[0m\u001b[1;33m\u001b[0m\u001b[1;33m\u001b[0m\u001b[0m\n\u001b[0m",
      "\u001b[1;31mNameError\u001b[0m: name 'df3' is not defined"
     ]
    }
   ],
   "source": [
    "df3.sample(10)"
   ]
  },
  {
   "cell_type": "markdown",
   "id": "ranking-consensus",
   "metadata": {
    "heading_collapsed": true
   },
   "source": [
    "## 3.1. Filtragem das Linhas"
   ]
  },
  {
   "cell_type": "code",
   "execution_count": null,
   "id": "unavailable-encoding",
   "metadata": {
    "hidden": true
   },
   "outputs": [],
   "source": [
    "df3 = df3[(df3['open'] != 0) & (df3['sales'] > 0)]"
   ]
  },
  {
   "cell_type": "markdown",
   "id": "economic-attendance",
   "metadata": {
    "heading_collapsed": true
   },
   "source": [
    "## 3.2. Filtragem das Colunas"
   ]
  },
  {
   "cell_type": "code",
   "execution_count": null,
   "id": "egyptian-wisdom",
   "metadata": {
    "hidden": true
   },
   "outputs": [],
   "source": [
    "cols_drop = ['customers', 'open', 'promo_interval', 'month_map']\n",
    "df3 = df3.drop( cols_drop, axis=1 )"
   ]
  },
  {
   "cell_type": "code",
   "execution_count": null,
   "id": "skilled-playback",
   "metadata": {
    "hidden": true
   },
   "outputs": [],
   "source": [
    "df3.sample(10)"
   ]
  },
  {
   "cell_type": "markdown",
   "id": "fluid-reference",
   "metadata": {},
   "source": [
    "# 4.0. PASSO 04 - ANALISE EXPLORATORIA DOS DADOS"
   ]
  },
  {
   "cell_type": "code",
   "execution_count": null,
   "id": "bigger-mambo",
   "metadata": {},
   "outputs": [],
   "source": [
    "df4 = df3.copy()"
   ]
  },
  {
   "cell_type": "markdown",
   "id": "perfect-skating",
   "metadata": {
    "heading_collapsed": true
   },
   "source": [
    "## 4.1. Analise Univariada"
   ]
  },
  {
   "cell_type": "markdown",
   "id": "wrapped-bubble",
   "metadata": {
    "heading_collapsed": true,
    "hidden": true
   },
   "source": [
    "### 4.1.1. Response Variable"
   ]
  },
  {
   "cell_type": "code",
   "execution_count": null,
   "id": "urban-biodiversity",
   "metadata": {
    "hidden": true
   },
   "outputs": [],
   "source": [
    "sns.kdeplot( data=df4, x='sales')"
   ]
  },
  {
   "cell_type": "markdown",
   "id": "sharing-moisture",
   "metadata": {
    "heading_collapsed": true,
    "hidden": true
   },
   "source": [
    "### 4.1.2. Numerical Variable\n"
   ]
  },
  {
   "cell_type": "code",
   "execution_count": null,
   "id": "revolutionary-amber",
   "metadata": {
    "hidden": true,
    "hide_input": true
   },
   "outputs": [],
   "source": [
    "num_attributes.hist( bins=25);"
   ]
  },
  {
   "cell_type": "markdown",
   "id": "muslim-freeze",
   "metadata": {
    "heading_collapsed": true,
    "hidden": true
   },
   "source": [
    "### 4.1.3. Categorical Variable"
   ]
  },
  {
   "cell_type": "code",
   "execution_count": null,
   "id": "similar-mauritius",
   "metadata": {
    "hidden": true
   },
   "outputs": [],
   "source": [
    "cat_attributes.head()"
   ]
  },
  {
   "cell_type": "code",
   "execution_count": null,
   "id": "graduate-dividend",
   "metadata": {
    "hidden": true
   },
   "outputs": [],
   "source": [
    "df4['state_holiday'].unique()"
   ]
  },
  {
   "cell_type": "code",
   "execution_count": null,
   "id": "textile-seventh",
   "metadata": {
    "hidden": true
   },
   "outputs": [],
   "source": [
    "df4['state_holiday'].drop_duplicates()"
   ]
  },
  {
   "cell_type": "code",
   "execution_count": null,
   "id": "stuffed-rescue",
   "metadata": {
    "hidden": true
   },
   "outputs": [],
   "source": [
    "df4['store_type'].drop_duplicates()"
   ]
  },
  {
   "cell_type": "code",
   "execution_count": null,
   "id": "overhead-block",
   "metadata": {
    "hidden": true
   },
   "outputs": [],
   "source": [
    "df4['assortment'].drop_duplicates()"
   ]
  },
  {
   "cell_type": "code",
   "execution_count": null,
   "id": "innovative-joshua",
   "metadata": {
    "hidden": true,
    "hide_input": false
   },
   "outputs": [],
   "source": [
    "# state_holiday\n",
    "plt.subplot(3,2,1)\n",
    "dfa = df4[df4['state_holiday'] != 'regular_day']\n",
    "sns.countplot( data= dfa, x=dfa['state_holiday'])\n",
    "\n",
    "plt.subplot(3,2,2)\n",
    "sns.kdeplot( df4[df4['state_holiday'] == 'public_holiday']['sales'], label='public_holiday', shade=True )\n",
    "sns.kdeplot( df4[df4['state_holiday'] == 'easter_holiday']['sales'], label='easter_holiday', shade=True )\n",
    "sns.kdeplot( df4[df4['state_holiday'] == 'christmas']['sales'], label='christmas', shade=True )\n",
    "\n",
    "# store_type\n",
    "plt.subplot(3,2,3)\n",
    "sns.countplot( data = df4, x=df4['store_type'])\n",
    "                 \n",
    "plt.subplot(3,2,4)\n",
    "sns.kdeplot( df4[df4['store_type'] == 'a']['sales'], label='a', shade=True )\n",
    "sns.kdeplot( df4[df4['store_type'] == 'b']['sales'], label='b', shade=True )\n",
    "sns.kdeplot( df4[df4['store_type'] == 'c']['sales'], label='c', shade=True )\n",
    "sns.kdeplot( df4[df4['store_type'] == 'd']['sales'], label='d', shade=True )\n",
    "                \n",
    "# assortment\n",
    "plt.subplot(3,2,5)\n",
    "sns.countplot( data = df4, x=df4['assortment'])\n",
    "                 \n",
    "plt.subplot(3,2,6)\n",
    "sns.kdeplot( df4[df4['assortment'] == 'basic']['sales'], label='basic', shade=True )\n",
    "sns.kdeplot( df4[df4['assortment'] == 'extended']['sales'], label='extended', shade=True )\n",
    "sns.kdeplot( df4[df4['assortment'] == 'extra']['sales'], label='extra', shade=True )\n",
    "\n",
    "                 \n",
    "                 \n",
    "                 "
   ]
  },
  {
   "cell_type": "markdown",
   "id": "sunset-seeker",
   "metadata": {},
   "source": [
    "## 4.2. Analise Bivariada"
   ]
  },
  {
   "cell_type": "markdown",
   "id": "lasting-bennett",
   "metadata": {
    "heading_collapsed": true
   },
   "source": [
    "### 4.2.1. Resumo das Hipoteses"
   ]
  },
  {
   "cell_type": "code",
   "execution_count": null,
   "id": "constant-pottery",
   "metadata": {
    "hidden": true,
    "hide_input": true
   },
   "outputs": [],
   "source": [
    "tab =[['Hipoteses', 'Conclusão', 'Relevancia'],\n",
    "     ['H1', 'Falsa','Baixa'],\n",
    "     ['H2', 'Falsa','Media'],\n",
    "     ['H3', 'Falsa','Media'],      \n",
    "     ['H4', 'Falsa','Baixa'],      \n",
    "     ['H5', '-','-'],      \n",
    "     ['H6', 'Falsa','Baixa'],      \n",
    "     ['H7', 'Falsa','Media'],      \n",
    "     ['H8', 'Falsa','Alta'],      \n",
    "     ['H9', 'Falsa','Alta'],      \n",
    "     ['H10', 'Verdadeira','Alta'],      \n",
    "     ['H11', 'Verdadeira','Alta'],      \n",
    "     ['H12', 'Verdadeira','Baixa'],\n",
    "     ]\n",
    "print( tabulate(tab, headers='firstrow'))"
   ]
  },
  {
   "cell_type": "markdown",
   "id": "persistent-dover",
   "metadata": {
    "heading_collapsed": true
   },
   "source": [
    "### H1. Lojas com maior sortimentos deveriam vender mais.\n",
    "**FALSA** Lojas com maior sortimento vendem menos.\n",
    "**Gera Insight** por ser contra intuitivo"
   ]
  },
  {
   "cell_type": "code",
   "execution_count": null,
   "id": "inside-martin",
   "metadata": {
    "hidden": true,
    "hide_input": true
   },
   "outputs": [],
   "source": [
    "aux1 =df4[['assortment', 'sales']].groupby( 'assortment').sum().reset_index()\n",
    "sns.barplot( x='assortment', y='sales', data=aux1)"
   ]
  },
  {
   "cell_type": "markdown",
   "id": "still-water",
   "metadata": {
    "heading_collapsed": true,
    "hidden": true
   },
   "source": [
    "#### Insight - Assumindo que o Assortment Extra é oque possui maior sortimento, assumimos que a hipótese é falsa, tendo em vista que pelos dados apresentado, é oque possui menor quantidade de vendas."
   ]
  },
  {
   "cell_type": "code",
   "execution_count": null,
   "id": "related-albania",
   "metadata": {
    "hidden": true,
    "hide_input": true,
    "scrolled": true
   },
   "outputs": [],
   "source": [
    "aux2 = df4[['year_week','assortment', 'sales']].groupby( ['year_week','assortment']).sum().reset_index()\n",
    "aux2.pivot( index='year_week', columns='assortment',values='sales').plot()"
   ]
  },
  {
   "cell_type": "markdown",
   "id": "recent-closing",
   "metadata": {
    "heading_collapsed": true,
    "hidden": true
   },
   "source": [
    "#### Basic e Extended, possuem o mesmo comportamento ao longo do tempo, o Extra fica muito pequena nessa análise, necessário ver se comportamento sozinha"
   ]
  },
  {
   "cell_type": "code",
   "execution_count": null,
   "id": "desirable-median",
   "metadata": {
    "hidden": true,
    "hide_input": true
   },
   "outputs": [],
   "source": [
    "aux3 = aux2[aux2['assortment'] == 'extra']\n",
    "aux3.pivot( index='year_week', columns='assortment',values='sales').plot()"
   ]
  },
  {
   "cell_type": "markdown",
   "id": "senior-structure",
   "metadata": {
    "heading_collapsed": true,
    "hidden": true
   },
   "source": [
    "#### Interessante ver como que com uma escola diferente se observa uma variancia maior de vendas ao longo do tempo."
   ]
  },
  {
   "cell_type": "markdown",
   "id": "trying-canadian",
   "metadata": {
    "heading_collapsed": true
   },
   "source": [
    "### H2. Lojas com mais dias de promoção deveriam vender mais.\n",
    "**FALSA** Lojas com compedidores mais próximos vendem mais.**Gera Insight** por ser contra intuitivo"
   ]
  },
  {
   "cell_type": "code",
   "execution_count": null,
   "id": "northern-leave",
   "metadata": {
    "hidden": true,
    "hide_input": false
   },
   "outputs": [],
   "source": [
    "aux4 = df4[['competition_distance', 'sales']].groupby( 'competition_distance').sum().reset_index()\n",
    "\n",
    "plt.subplot(1,3,1)\n",
    "sns.scatterplot( x ='competition_distance', y='sales', data=aux4);\n",
    "\n",
    "plt.subplot(1,3,2)\n",
    "bins = list( np.arange(0, 20000, 1000))\n",
    "aux4['competition_distance_binned'] = pd.cut( aux4['competition_distance'],bins=bins)\n",
    "aux5 = aux4[['competition_distance_binned','sales']].groupby('competition_distance_binned').sum().reset_index()\n",
    "sns.barplot( x='competition_distance_binned', y='sales', data=aux5);\n",
    "plt.xticks(rotation=90);\n",
    "\n",
    "plt.subplot(1,3,3)\n",
    "sns.heatmap( aux4.corr( method='pearson'), annot=True);\n"
   ]
  },
  {
   "cell_type": "markdown",
   "id": "solid-logistics",
   "metadata": {
    "heading_collapsed": true,
    "hidden": true
   },
   "source": [
    "#### Insight - Possível verificar que competidores mais próximos as lojas vendem mais do que com a distância maior."
   ]
  },
  {
   "cell_type": "markdown",
   "id": "persistent-geometry",
   "metadata": {
    "heading_collapsed": true
   },
   "source": [
    "### H3. Lojas com competidores à mais tempo deveriam vender mais.\n",
    "**FALSO** quanto mais recente a competição, maior é a quantidade de vendas."
   ]
  },
  {
   "cell_type": "code",
   "execution_count": null,
   "id": "favorite-addition",
   "metadata": {
    "hidden": true,
    "hide_input": true
   },
   "outputs": [],
   "source": [
    "aux6 = df4[['competition_open_since_month', 'sales']].groupby( 'competition_open_since_month').sum().reset_index()\n",
    "sns.barplot( x = 'competition_open_since_month', y ='sales', data=aux6);"
   ]
  },
  {
   "cell_type": "markdown",
   "id": "earlier-patch",
   "metadata": {
    "heading_collapsed": true,
    "hidden": true
   },
   "source": [
    "#### Necessário realizar uma correlação melhor entre o inicio da competição é a quantidade de vendas."
   ]
  },
  {
   "cell_type": "code",
   "execution_count": null,
   "id": "favorite-fitting",
   "metadata": {
    "hidden": true,
    "hide_input": false,
    "scrolled": false
   },
   "outputs": [],
   "source": [
    "plt.subplot( 1,3,1)\n",
    "aux7 = df4[['competition_time_month', 'sales']].groupby( 'competition_time_month').sum().reset_index()\n",
    "aux8 = aux7[(aux7['competition_time_month'] < 120 ) & (aux7['competition_time_month'] != 0)]\n",
    "sns.barplot( x = 'competition_time_month', y ='sales', data=aux8);\n",
    "plt.xticks( rotation= 90);\n",
    "\n",
    "plt.subplot( 1,3,2)\n",
    "sns.regplot( x = 'competition_time_month', y ='sales', data=aux8);\n",
    "\n",
    "plt.subplot( 1,3,3)\n",
    "sns.heatmap( aux7.corr( method='pearson'), annot=True);"
   ]
  },
  {
   "cell_type": "markdown",
   "id": "retained-contest",
   "metadata": {
    "heading_collapsed": true
   },
   "source": [
    "### H4. Lojas com promoções ativas por mais tempo deveriam vender mais.\n",
    "**FALSO** Lojas com promoções ativas por mais tempo vendem menos, depois de um certo periodo de promoção."
   ]
  },
  {
   "cell_type": "code",
   "execution_count": null,
   "id": "duplicate-centre",
   "metadata": {
    "hidden": true
   },
   "outputs": [],
   "source": [
    "aux1 = df4[['promo_time_week', 'sales']].groupby('promo_time_week').sum().reset_index()\n",
    "sns.barplot( x='promo_time_week', y='sales', data=aux1);"
   ]
  },
  {
   "cell_type": "markdown",
   "id": "palestinian-taxation",
   "metadata": {
    "heading_collapsed": true,
    "hidden": true
   },
   "source": [
    "#### Como há uma grande quantidade de dados, é necessário realizar um recorte. Feito para que seja possível visualizar os dados."
   ]
  },
  {
   "cell_type": "code",
   "execution_count": null,
   "id": "stretch-requirement",
   "metadata": {
    "hidden": true
   },
   "outputs": [],
   "source": [
    "grid = GridSpec(2,3)\n",
    "plt.subplot(grid[0,0])\n",
    "aux2 = aux1[aux1['promo_time_week'] > 0] #promo extendido\n",
    "sns.barplot( x ='promo_time_week', y='sales', data=aux2);\n",
    "plt.xticks(rotation=90);\n",
    "\n",
    "plt.subplot(grid[0,1])\n",
    "sns.regplot( x ='promo_time_week', y='sales', data=aux2);\n",
    "\n",
    "plt.subplot(grid[1,0])\n",
    "aux3 = aux1[aux1['promo_time_week'] < 0] #promo regular\n",
    "sns.barplot( x ='promo_time_week', y='sales', data=aux3);\n",
    "plt.xticks(rotation=90);\n",
    "\n",
    "plt.subplot(grid[1,1])\n",
    "sns.regplot( x ='promo_time_week', y='sales', data=aux3);\n",
    "\n",
    "plt.subplot(grid[:,2])\n",
    "sns.heatmap( aux1.corr(method='pearson'),annot=True);\n"
   ]
  },
  {
   "cell_type": "markdown",
   "id": "incoming-finder",
   "metadata": {
    "heading_collapsed": true
   },
   "source": [
    "### <s>H5. Lojas com mais dias de promoção deveriam vender mais.</s>"
   ]
  },
  {
   "cell_type": "markdown",
   "id": "equivalent-legislation",
   "metadata": {
    "heading_collapsed": true
   },
   "source": [
    "### H6. Lojas com mais promoções consecutivas deveriam vender mais.\n",
    "**FALSA** Lojas com mais promoções concecutivas vendem menos."
   ]
  },
  {
   "cell_type": "markdown",
   "id": "jewish-thickness",
   "metadata": {
    "hidden": true
   },
   "source": [
    "**SERA VALIDADA NO PRÓXIMO CICLO DO CRISP**"
   ]
  },
  {
   "cell_type": "code",
   "execution_count": null,
   "id": "fantastic-adolescent",
   "metadata": {
    "hidden": true
   },
   "outputs": [],
   "source": [
    "df4[['promo', 'promo2', 'sales']].groupby(['promo', 'promo2']).sum().reset_index()"
   ]
  },
  {
   "cell_type": "code",
   "execution_count": null,
   "id": "bronze-ordinance",
   "metadata": {
    "hidden": true
   },
   "outputs": [],
   "source": [
    "aux1 = df4[(df4['promo'] == 1) & (df4['promo2'] == 1)][['year_week', 'sales']].groupby('year_week').sum().reset_index()\n",
    "ax = aux1.plot()\n",
    "\n",
    "aux2 = df4[(df4['promo'] == 1) & (df4['promo2'] == 0)][['year_week', 'sales']].groupby('year_week').sum().reset_index()\n",
    "aux2.plot( ax= ax)\n",
    "\n",
    "ax.legend( labels=['Tradicional & Extendida', 'Extendida']);"
   ]
  },
  {
   "cell_type": "markdown",
   "id": "prospective-league",
   "metadata": {
    "heading_collapsed": true,
    "hidden": true,
    "hide_input": false
   },
   "source": [
    "#### Quanto mais recente, próximo de 0, maior é a quantidade de vendas."
   ]
  },
  {
   "cell_type": "markdown",
   "id": "assisted-segment",
   "metadata": {
    "heading_collapsed": true
   },
   "source": [
    "### H7. Lojas abertas durante o feriado de natal deveriam vender mais.\n",
    "**FALSO** Lojas abertas no natal vendem menos"
   ]
  },
  {
   "cell_type": "code",
   "execution_count": 11,
   "id": "handled-spyware",
   "metadata": {
    "hidden": true
   },
   "outputs": [
    {
     "ename": "NameError",
     "evalue": "name 'df4' is not defined",
     "output_type": "error",
     "traceback": [
      "\u001b[1;31m---------------------------------------------------------------------------\u001b[0m",
      "\u001b[1;31mNameError\u001b[0m                                 Traceback (most recent call last)",
      "\u001b[1;32m<ipython-input-11-d7902a406903>\u001b[0m in \u001b[0;36m<module>\u001b[1;34m\u001b[0m\n\u001b[1;32m----> 1\u001b[1;33m \u001b[0maux\u001b[0m \u001b[1;33m=\u001b[0m \u001b[0mdf4\u001b[0m\u001b[1;33m[\u001b[0m\u001b[0mdf4\u001b[0m\u001b[1;33m[\u001b[0m\u001b[1;34m'state_holiday'\u001b[0m\u001b[1;33m]\u001b[0m \u001b[1;33m!=\u001b[0m \u001b[1;34m'regular_day'\u001b[0m\u001b[1;33m]\u001b[0m\u001b[1;33m\u001b[0m\u001b[1;33m\u001b[0m\u001b[0m\n\u001b[0m\u001b[0;32m      2\u001b[0m \u001b[0maux1\u001b[0m \u001b[1;33m=\u001b[0m \u001b[0maux\u001b[0m\u001b[1;33m[\u001b[0m\u001b[1;33m[\u001b[0m\u001b[1;34m'state_holiday'\u001b[0m\u001b[1;33m,\u001b[0m \u001b[1;34m'sales'\u001b[0m\u001b[1;33m]\u001b[0m\u001b[1;33m]\u001b[0m\u001b[1;33m.\u001b[0m\u001b[0mgroupby\u001b[0m\u001b[1;33m(\u001b[0m\u001b[1;34m'state_holiday'\u001b[0m\u001b[1;33m)\u001b[0m\u001b[1;33m.\u001b[0m\u001b[0msum\u001b[0m\u001b[1;33m(\u001b[0m\u001b[1;33m)\u001b[0m\u001b[1;33m.\u001b[0m\u001b[0mreset_index\u001b[0m\u001b[1;33m(\u001b[0m\u001b[1;33m)\u001b[0m\u001b[1;33m\u001b[0m\u001b[1;33m\u001b[0m\u001b[0m\n\u001b[0;32m      3\u001b[0m \u001b[0msns\u001b[0m\u001b[1;33m.\u001b[0m\u001b[0mbarplot\u001b[0m\u001b[1;33m(\u001b[0m\u001b[0mx\u001b[0m \u001b[1;33m=\u001b[0m \u001b[1;34m'state_holiday'\u001b[0m\u001b[1;33m,\u001b[0m \u001b[0my\u001b[0m\u001b[1;33m=\u001b[0m\u001b[1;34m'sales'\u001b[0m\u001b[1;33m,\u001b[0m \u001b[0mdata\u001b[0m\u001b[1;33m=\u001b[0m\u001b[0maux1\u001b[0m\u001b[1;33m)\u001b[0m\u001b[1;33m;\u001b[0m\u001b[1;33m\u001b[0m\u001b[1;33m\u001b[0m\u001b[0m\n",
      "\u001b[1;31mNameError\u001b[0m: name 'df4' is not defined"
     ]
    }
   ],
   "source": [
    "aux = df4[df4['state_holiday'] != 'regular_day']\n",
    "aux1 = aux[['state_holiday', 'sales']].groupby('state_holiday').sum().reset_index()\n",
    "sns.barplot(x = 'state_holiday', y='sales', data=aux1);"
   ]
  },
  {
   "cell_type": "markdown",
   "id": "adequate-nirvana",
   "metadata": {
    "heading_collapsed": true,
    "hidden": true
   },
   "source": [
    "#### Nota-se que no natal se vendeu menos que o restante das datas. Para verificar se isso ocorreu em todos os anos vou dividir os dados por ano "
   ]
  },
  {
   "cell_type": "code",
   "execution_count": null,
   "id": "prepared-reconstruction",
   "metadata": {
    "hidden": true
   },
   "outputs": [],
   "source": [
    "aux2 = aux[['year','state_holiday', 'sales']].groupby(['year','state_holiday']).sum().reset_index()\n",
    "sns.barplot(x = 'year', y='sales',hue = 'state_holiday', data=aux2);\n"
   ]
  },
  {
   "cell_type": "markdown",
   "id": "after-clone",
   "metadata": {
    "heading_collapsed": true
   },
   "source": [
    "### H8. Lojas deveriam vender mais ao longo dos anos.\n",
    "**FALSO** Vendem Menos "
   ]
  },
  {
   "cell_type": "code",
   "execution_count": null,
   "id": "frozen-foster",
   "metadata": {
    "hidden": true
   },
   "outputs": [],
   "source": [
    "aux1 = df4[['year','sales']].groupby('year').sum().reset_index()\n",
    "\n",
    "plt.subplot(1,3,1)\n",
    "sns.barplot(x='year', y='sales', data=aux1);\n",
    "\n",
    "plt.subplot(1,3,2)\n",
    "sns.regplot(x='year', y='sales', data=aux1);\n",
    "\n",
    "plt.subplot(1,3,3)\n",
    "sns.heatmap(aux1.corr( method='pearson'),annot=True)"
   ]
  },
  {
   "cell_type": "markdown",
   "id": "diverse-failure",
   "metadata": {
    "heading_collapsed": true
   },
   "source": [
    "### H9. Lojas deveriam vender mais no segundo semestre do ano.\n",
    "**FALSO** vendem menos no segundo semestre"
   ]
  },
  {
   "cell_type": "code",
   "execution_count": null,
   "id": "emotional-holder",
   "metadata": {
    "hidden": true
   },
   "outputs": [],
   "source": [
    "aux1 = df4[['month','sales']].groupby('month').sum().reset_index()\n",
    "\n",
    "plt.subplot(1,3,1)\n",
    "sns.barplot(x='month', y='sales', data=aux1);\n",
    "\n",
    "plt.subplot(1,3,2)\n",
    "sns.regplot(x='month', y='sales', data=aux1);\n",
    "\n",
    "plt.subplot(1,3,3)\n",
    "sns.heatmap(aux1.corr( method='pearson'),annot=True)"
   ]
  },
  {
   "cell_type": "markdown",
   "id": "altered-discount",
   "metadata": {
    "heading_collapsed": true
   },
   "source": [
    "### H10. Lojas deveriam vender mais depois do dia 10 de cada mês.\n",
    "**VERDADEIRA** lojas vendem mais depois do dia 10"
   ]
  },
  {
   "cell_type": "code",
   "execution_count": null,
   "id": "living-perth",
   "metadata": {
    "hidden": true
   },
   "outputs": [],
   "source": [
    "aux1.head()"
   ]
  },
  {
   "cell_type": "code",
   "execution_count": null,
   "id": "smoking-tragedy",
   "metadata": {
    "hidden": true
   },
   "outputs": [],
   "source": [
    "aux1 = df4[['day','sales']].groupby('day').sum().reset_index()\n",
    "\n",
    "plt.subplot(2,2,1)\n",
    "sns.barplot(x='day', y='sales', data=aux1);\n",
    "\n",
    "plt.subplot(2,2,2)\n",
    "sns.regplot(x='day', y='sales', data=aux1);\n",
    "\n",
    "plt.subplot(2,2,3)\n",
    "sns.heatmap(aux1.corr( method='pearson'),annot=True)\n",
    "\n",
    "\n",
    "aux1['before_after'] = aux1['day'].apply(lambda x: 'before_10_days' if x <= 10 else 'after_10_days')\n",
    "aux2 = aux1[['before_after', 'sales']].groupby('before_after').sum().reset_index()\n",
    "\n",
    "plt.subplot(2,2,4)\n",
    "sns.barplot(x='before_after',y='sales',data=aux2);"
   ]
  },
  {
   "cell_type": "markdown",
   "id": "american-amplifier",
   "metadata": {
    "heading_collapsed": true
   },
   "source": [
    "### H11. Lojas deveriam vender menos aos finais de semana.\n",
    "**VERDADEIRA** porque lojas vendem menos nos finais de semana"
   ]
  },
  {
   "cell_type": "code",
   "execution_count": null,
   "id": "christian-configuration",
   "metadata": {
    "hidden": true,
    "hide_input": true
   },
   "outputs": [],
   "source": [
    "aux1 = df4[['day_of_week','sales']].groupby('day_of_week').sum().reset_index()\n",
    "\n",
    "plt.subplot(1,3,1)\n",
    "sns.barplot(x='day_of_week', y='sales', data=aux1);\n",
    "\n",
    "plt.subplot(1,3,2)\n",
    "sns.regplot(x='day_of_week', y='sales', data=aux1);\n",
    "\n",
    "plt.subplot(1,3,3)\n",
    "sns.heatmap(aux1.corr( method='pearson'),annot=True)\n",
    "\n"
   ]
  },
  {
   "cell_type": "markdown",
   "id": "partial-addiction",
   "metadata": {
    "heading_collapsed": true
   },
   "source": [
    "### H12. Lojas deveriam vender menos durante feriados escolares.\n",
    "**VERDADEIRA** porque lojas vendem menos durantes os feriados escolares, exceto o mês de Agosto."
   ]
  },
  {
   "cell_type": "code",
   "execution_count": null,
   "id": "canadian-antibody",
   "metadata": {
    "hidden": true,
    "hide_input": true,
    "scrolled": false
   },
   "outputs": [],
   "source": [
    "aux1 = df4[['school_holiday','sales']].groupby('school_holiday').sum().reset_index()\n",
    "\n",
    "plt.subplot(2,1,1)\n",
    "sns.barplot(x='school_holiday', y='sales', data=aux1);\n",
    "\n",
    "plt.subplot(2,1,2)\n",
    "aux2 = df4[['month','school_holiday','sales']].groupby(['month','school_holiday']).sum().reset_index()\n",
    "sns.barplot(x='month', y='sales',hue='school_holiday', data=aux2); "
   ]
  },
  {
   "cell_type": "code",
   "execution_count": null,
   "id": "empirical-fault",
   "metadata": {
    "hidden": true
   },
   "outputs": [],
   "source": [
    "from tabulate import tabulate"
   ]
  },
  {
   "cell_type": "markdown",
   "id": "italic-bumper",
   "metadata": {
    "heading_collapsed": true
   },
   "source": [
    "## 4.3. Analise Multivariada"
   ]
  },
  {
   "cell_type": "markdown",
   "id": "completed-representation",
   "metadata": {
    "heading_collapsed": true,
    "hidden": true
   },
   "source": [
    "### 4.3.1. Numerical Attributes"
   ]
  },
  {
   "cell_type": "code",
   "execution_count": null,
   "id": "sweet-blast",
   "metadata": {
    "hidden": true,
    "hide_input": true
   },
   "outputs": [],
   "source": [
    "correlation = num_attributes.corr( method='pearson')\n",
    "sns.heatmap( correlation, annot=True);"
   ]
  },
  {
   "cell_type": "markdown",
   "id": "conventional-surge",
   "metadata": {
    "heading_collapsed": true,
    "hidden": true
   },
   "source": [
    "### 4.3.2. Categorical Attributes"
   ]
  },
  {
   "cell_type": "code",
   "execution_count": null,
   "id": "otherwise-turkish",
   "metadata": {
    "hidden": true,
    "hide_input": true
   },
   "outputs": [],
   "source": [
    "#somente atributos categoricos\n",
    "a = df4.select_dtypes( include='object')\n",
    "\n",
    "#calculando cramer_v\n",
    "a1 = cramer_v(a['state_holiday'], a['state_holiday'] )\n",
    "a2 = cramer_v(a['state_holiday'], a['store_type'] )\n",
    "a3 = cramer_v(a['state_holiday'], a['assortment'] )\n",
    "\n",
    "a4 = cramer_v(a['store_type'], a['state_holiday'] )\n",
    "a5 = cramer_v(a['store_type'], a['store_type'] )\n",
    "a6 = cramer_v(a['store_type'], a['assortment'] )\n",
    "\n",
    "a7 = cramer_v(a['assortment'], a['state_holiday'] )\n",
    "a8 = cramer_v(a['assortment'], a['store_type'] )\n",
    "a9 = cramer_v(a['assortment'], a['assortment'] )\n",
    "\n",
    "#dataset final\n",
    "d = pd.DataFrame( {'state_holiday': [a1,a2,a3],\n",
    "              'store_type': [a4,a5,a6],\n",
    "              'assortment': [a7,a8,a9]})\n",
    "d = d.set_index(d.columns)\n",
    "\n",
    "#mapa de calor \n",
    "sns.heatmap(d,annot=True);"
   ]
  },
  {
   "cell_type": "markdown",
   "id": "ceramic-danger",
   "metadata": {},
   "source": [
    "# 5.0. PASSO 05 - DATA PREPARATION"
   ]
  },
  {
   "cell_type": "code",
   "execution_count": null,
   "id": "plain-custom",
   "metadata": {},
   "outputs": [],
   "source": [
    "df5 = df4.copy()"
   ]
  },
  {
   "cell_type": "markdown",
   "id": "little-penny",
   "metadata": {
    "heading_collapsed": true
   },
   "source": [
    "## 5.1. Normalizacao"
   ]
  },
  {
   "cell_type": "markdown",
   "id": "wound-function",
   "metadata": {
    "hidden": true
   },
   "source": [
    "**Como não há nenhuma varíavel numérica com formato de Normal, é aconselhavel não forçar a Normalização e trabalhar com a Reescala no próximo passo**"
   ]
  },
  {
   "cell_type": "markdown",
   "id": "starting-beauty",
   "metadata": {
    "heading_collapsed": true
   },
   "source": [
    "## 5.2. Rescaling"
   ]
  },
  {
   "cell_type": "markdown",
   "id": "broke-native",
   "metadata": {
    "heading_collapsed": true,
    "hidden": true
   },
   "source": [
    "#### Selecionando atributos númericos"
   ]
  },
  {
   "cell_type": "code",
   "execution_count": null,
   "id": "pediatric-invention",
   "metadata": {
    "hidden": true
   },
   "outputs": [],
   "source": [
    "a = df5.select_dtypes( include=['int64','float64'])"
   ]
  },
  {
   "cell_type": "code",
   "execution_count": null,
   "id": "needed-nelson",
   "metadata": {
    "hidden": true,
    "hide_input": true
   },
   "outputs": [],
   "source": [
    "a.head()"
   ]
  },
  {
   "cell_type": "markdown",
   "id": "threatened-ranch",
   "metadata": {
    "heading_collapsed": true,
    "hidden": true
   },
   "source": [
    "#### Gerando gráficos para detectar outliers"
   ]
  },
  {
   "cell_type": "code",
   "execution_count": null,
   "id": "cross-assignment",
   "metadata": {
    "hidden": true,
    "hide_input": true
   },
   "outputs": [],
   "source": [
    "sns.boxplot(x = 'competition_distance', data = df5)"
   ]
  },
  {
   "cell_type": "code",
   "execution_count": null,
   "id": "placed-foster",
   "metadata": {
    "hidden": true,
    "hide_input": true
   },
   "outputs": [],
   "source": [
    "sns.boxplot(x = 'competition_time_month', data = df5)"
   ]
  },
  {
   "cell_type": "code",
   "execution_count": null,
   "id": "psychological-glass",
   "metadata": {
    "hidden": true,
    "hide_input": true
   },
   "outputs": [],
   "source": [
    "sns.boxplot(x = 'promo_time_week', data = df5);"
   ]
  },
  {
   "cell_type": "code",
   "execution_count": null,
   "id": "reverse-shock",
   "metadata": {
    "hidden": true,
    "hide_input": true
   },
   "outputs": [],
   "source": [
    "sns.boxplot(x = 'year', data = df5);"
   ]
  },
  {
   "cell_type": "markdown",
   "id": "female-biology",
   "metadata": {
    "heading_collapsed": true,
    "hidden": true
   },
   "source": [
    "#### Normalizando variáveis, respeitando a indicação de outliers para definir o método"
   ]
  },
  {
   "cell_type": "code",
   "execution_count": null,
   "id": "advance-ozone",
   "metadata": {
    "hidden": true
   },
   "outputs": [],
   "source": [
    "rs = RobustScaler()\n",
    "mms = MinMaxScaler()\n",
    "\n",
    "# competition distance\n",
    "df5['competition_distance'] = rs.fit_transform(df5[['competition_distance']].values)\n",
    "\n",
    "# competition time month\n",
    "df5['competition_time_month'] = rs.fit_transform(df5[['competition_time_month']].values)\n",
    "\n",
    "# promo time week\n",
    "df5['promo_time_week'] = mms.fit_transform(df5[['promo_time_week']].values)\n",
    "\n",
    "\n",
    "# year\n",
    "df5['year'] = mms.fit_transform(df5[['year']].values)\n",
    "\n"
   ]
  },
  {
   "cell_type": "code",
   "execution_count": null,
   "id": "backed-bermuda",
   "metadata": {
    "hidden": true
   },
   "outputs": [],
   "source": [
    "sns.distplot(df5['competition_distance']);"
   ]
  },
  {
   "cell_type": "markdown",
   "id": "complicated-present",
   "metadata": {
    "heading_collapsed": true
   },
   "source": [
    "## 5.3. Transformação"
   ]
  },
  {
   "cell_type": "markdown",
   "id": "distributed-collect",
   "metadata": {
    "heading_collapsed": true,
    "hidden": true
   },
   "source": [
    "### 5.3.1 Encoding"
   ]
  },
  {
   "cell_type": "code",
   "execution_count": null,
   "id": "random-sight",
   "metadata": {
    "hidden": true,
    "hide_input": false
   },
   "outputs": [],
   "source": [
    "# state_holiday (one hot encoding)\n",
    "df5 = pd.get_dummies(df5, prefix=['state_holiday'], columns=['state_holiday'])\n",
    "\n",
    "# store_type (label Encoding)\n",
    "le = LabelEncoder()\n",
    "df5['store_type'] = le.fit_transform( df5['store_type'])\n",
    "\n",
    "# assortment (Ordinal Encoding)\n",
    "assortment_dict = {'basic' : 1,'extra' : 2,'extended' : 3}\n",
    "df5['assortment'] = df5['assortment'].map( assortment_dict)"
   ]
  },
  {
   "cell_type": "markdown",
   "id": "ecological-payment",
   "metadata": {
    "heading_collapsed": true,
    "hidden": true
   },
   "source": [
    "### 5.3.2. Response Variable Transformation"
   ]
  },
  {
   "cell_type": "code",
   "execution_count": null,
   "id": "studied-richmond",
   "metadata": {
    "hidden": true
   },
   "outputs": [],
   "source": [
    "df5['sales'] = np.log1p( df5['sales'])"
   ]
  },
  {
   "cell_type": "markdown",
   "id": "endless-tradition",
   "metadata": {
    "heading_collapsed": true,
    "hidden": true
   },
   "source": [
    "### 5.3.3 Nature Transformation"
   ]
  },
  {
   "cell_type": "code",
   "execution_count": null,
   "id": "interested-cricket",
   "metadata": {
    "hidden": true
   },
   "outputs": [],
   "source": [
    "# week of year\n",
    "df5['week_of_year_sin'] = df5['week_of_year'].apply( lambda x: np.sin(x *( 2. * np.pi/52 ) ) )\n",
    "df5['week_of_year_cos'] = df5['week_of_year'].apply( lambda x: np.cos(x *( 2. * np.pi/52 ) ) )\n",
    "\n",
    "# day of week\n",
    "df5['day_of_week_sin'] = df5['day_of_week'].apply( lambda x: np.sin(x *( 2. * np.pi/7 ) ) )\n",
    "df5['day_of_week_cos'] = df5['day_of_week'].apply( lambda x: np.cos(x *( 2. * np.pi/7 ) ) )\n",
    "\n",
    "# month\n",
    "df5['month_sin'] = df5['month'].apply( lambda x: np.sin(x *( 2. * np.pi/12 ) ) )\n",
    "df5['month_cos'] = df5['month'].apply( lambda x: np.cos(x *( 2. * np.pi/12 ) ) )\n",
    "# day\n",
    "df5['day_sin'] = df5['day'].apply( lambda x: np.cos(x *( 2. * np.pi/30 ) ) )\n",
    "df5['day_cos'] = df5['day'].apply( lambda x: np.cos(x *( 2. * np.pi/30 ) ) )\n"
   ]
  },
  {
   "cell_type": "markdown",
   "id": "champion-traffic",
   "metadata": {},
   "source": [
    "# 6.0. PASSO 06 - FEATURE SELECTION"
   ]
  },
  {
   "cell_type": "code",
   "execution_count": null,
   "id": "eight-gabriel",
   "metadata": {},
   "outputs": [],
   "source": [
    "df6 = df5.copy()"
   ]
  },
  {
   "cell_type": "markdown",
   "id": "computational-worst",
   "metadata": {
    "heading_collapsed": true
   },
   "source": [
    "## 6.1.Split dataframe into training an test dataset"
   ]
  },
  {
   "cell_type": "code",
   "execution_count": null,
   "id": "stopped-blood",
   "metadata": {
    "hidden": true
   },
   "outputs": [],
   "source": [
    "df6.head()"
   ]
  },
  {
   "cell_type": "code",
   "execution_count": 12,
   "id": "latest-carol",
   "metadata": {
    "hidden": true
   },
   "outputs": [
    {
     "ename": "NameError",
     "evalue": "name 'df6' is not defined",
     "output_type": "error",
     "traceback": [
      "\u001b[1;31m---------------------------------------------------------------------------\u001b[0m",
      "\u001b[1;31mNameError\u001b[0m                                 Traceback (most recent call last)",
      "\u001b[1;32m<ipython-input-12-9b25e23c51b9>\u001b[0m in \u001b[0;36m<module>\u001b[1;34m\u001b[0m\n\u001b[0;32m      1\u001b[0m \u001b[1;31m#Necessário retirar váriaveis que foram derivadas.\u001b[0m\u001b[1;33m\u001b[0m\u001b[1;33m\u001b[0m\u001b[1;33m\u001b[0m\u001b[0m\n\u001b[0;32m      2\u001b[0m \u001b[0mcols_drop\u001b[0m \u001b[1;33m=\u001b[0m \u001b[1;33m[\u001b[0m\u001b[1;34m'week_of_year'\u001b[0m\u001b[1;33m,\u001b[0m \u001b[1;34m'day'\u001b[0m\u001b[1;33m,\u001b[0m \u001b[1;34m'month'\u001b[0m\u001b[1;33m,\u001b[0m \u001b[1;34m'day_of_week'\u001b[0m\u001b[1;33m,\u001b[0m \u001b[1;34m'promo_since'\u001b[0m\u001b[1;33m,\u001b[0m \u001b[1;34m'competition_since'\u001b[0m\u001b[1;33m,\u001b[0m \u001b[1;34m'year_week'\u001b[0m\u001b[1;33m]\u001b[0m\u001b[1;33m\u001b[0m\u001b[1;33m\u001b[0m\u001b[0m\n\u001b[1;32m----> 3\u001b[1;33m \u001b[0mdf6\u001b[0m \u001b[1;33m=\u001b[0m \u001b[0mdf6\u001b[0m\u001b[1;33m.\u001b[0m\u001b[0mdrop\u001b[0m\u001b[1;33m(\u001b[0m \u001b[0mcols_drop\u001b[0m\u001b[1;33m,\u001b[0m \u001b[0maxis\u001b[0m\u001b[1;33m=\u001b[0m\u001b[1;36m1\u001b[0m\u001b[1;33m)\u001b[0m\u001b[1;33m\u001b[0m\u001b[1;33m\u001b[0m\u001b[0m\n\u001b[0m",
      "\u001b[1;31mNameError\u001b[0m: name 'df6' is not defined"
     ]
    }
   ],
   "source": [
    "#Necessário retirar váriaveis que foram derivadas.\n",
    "cols_drop = ['week_of_year', 'day', 'month', 'day_of_week', 'promo_since', 'competition_since', 'year_week']\n",
    "df6 = df6.drop( cols_drop, axis=1)"
   ]
  },
  {
   "cell_type": "code",
   "execution_count": null,
   "id": "waiting-court",
   "metadata": {
    "hidden": true
   },
   "outputs": [],
   "source": [
    "df6[['store', 'date']].groupby( 'store' ).max().reset_index()['date'][0] - datetime.timedelta( days=6*7)"
   ]
  },
  {
   "cell_type": "code",
   "execution_count": null,
   "id": "excellent-commission",
   "metadata": {
    "hidden": true
   },
   "outputs": [],
   "source": [
    "# necessário separar o DataSet em Treino e Teste\n",
    "\n",
    "# Para isso utilizaremos a data como determinante para separação\n",
    "\n",
    "# training dataset\n",
    "X_train = df6[df6['date'] < '2015-06-19']\n",
    "y_train = X_train['sales']\n",
    "\n",
    "# test dataset\n",
    "X_test = df6[df6['date'] >= '2015-06-19']\n",
    "y_test = X_test['sales']\n",
    "\n",
    "print( 'Training Min Date: {}'.format( X_train['date'].min() ) )\n",
    "print( 'Training Max Date: {}'.format( X_train['date'].max() ) )\n",
    "\n",
    "print( '\\nTest Min Date: {}'.format( X_test['date'].min() ) )\n",
    "print( 'Test Max Date: {}'.format( X_test['date'].max() ) )\n"
   ]
  },
  {
   "cell_type": "markdown",
   "id": "confidential-recorder",
   "metadata": {
    "hide_input": true
   },
   "source": [
    "## 6.2.1. Boruta as Feature Selector"
   ]
  },
  {
   "cell_type": "code",
   "execution_count": null,
   "id": "subjective-flooring",
   "metadata": {
    "hide_input": false
   },
   "outputs": [],
   "source": [
    "# training and test dataset for Boruta\n",
    "#X_train_n = X_train.drop( ['date','sales'], axis=1).values\n",
    "#y_train_n = y_train.values.ravel()\n",
    "\n",
    "# define RandomForestRegressor\n",
    "#rf = RandomForestRegressor( n_jobs=-1)\n",
    "\n",
    "# define Boruta\n",
    "#boruta = BorutaPy( rf, n_estimators='auto', verbose=2, random_state=42 ).fit( X_train_n, y_train_n)"
   ]
  },
  {
   "cell_type": "code",
   "execution_count": null,
   "id": "eligible-motor",
   "metadata": {},
   "outputs": [],
   "source": [
    "#cols_selected = boruta.support_.tolist()\n",
    "\n",
    "#best features\n",
    "#X_train_fs = X_train.drop( ['date', 'sales'], axis=1)\n",
    "#cols_selected_boruta = X_train_fs.iloc[:,cols_selected].columns.to_list()\n",
    "\n",
    "#not selected boruta\n",
    "#cols_not_selected_boruta = list( np.setdiff1d( X_train_fs.columns, cols_selected_boruta))"
   ]
  },
  {
   "cell_type": "markdown",
   "id": "centered-bonus",
   "metadata": {},
   "source": [
    "## 6.3. Manual Feature Selection"
   ]
  },
  {
   "cell_type": "code",
   "execution_count": null,
   "id": "devoted-questionnaire",
   "metadata": {},
   "outputs": [],
   "source": [
    "cols_selected_boruta = [\n",
    "    'store',\n",
    "    'promo',\n",
    "    'store_type',\n",
    "    'assortment',\n",
    "     'competition_distance',\n",
    "     'competition_open_since_month',\n",
    "     'competition_open_since_year',\n",
    "     'promo2',\n",
    "     'promo2_since_week',\n",
    "     'promo2_since_year',\n",
    "     'competition_time_month',\n",
    "     'promo_time_week',\n",
    "     'week_of_year_cos',\n",
    "     'week_of_year_sin',\n",
    "     'day_of_week_sin',\n",
    "     'day_of_week_cos',\n",
    "     'month_cos',\n",
    "     'month_sin',\n",
    "     'day_sin',\n",
    "     'day_cos']\n",
    "\n",
    "#columns to add\n",
    "feat_to_add = ['date', 'sales']\n",
    "\n",
    "# final features\n",
    "cols_selected_boruta.extend( feat_to_add)"
   ]
  },
  {
   "cell_type": "code",
   "execution_count": null,
   "id": "skilled-console",
   "metadata": {},
   "outputs": [],
   "source": [
    "cols_selected_boruta"
   ]
  },
  {
   "cell_type": "markdown",
   "id": "coastal-melissa",
   "metadata": {},
   "source": [
    "# 7.1 ML"
   ]
  },
  {
   "cell_type": "code",
   "execution_count": null,
   "id": "british-caution",
   "metadata": {},
   "outputs": [],
   "source": [
    "df7 = df6.copy()"
   ]
  },
  {
   "cell_type": "code",
   "execution_count": null,
   "id": "distributed-division",
   "metadata": {},
   "outputs": [],
   "source": []
  }
 ],
 "metadata": {
  "kernelspec": {
   "display_name": "Python 3",
   "language": "python",
   "name": "python3"
  },
  "language_info": {
   "codemirror_mode": {
    "name": "ipython",
    "version": 3
   },
   "file_extension": ".py",
   "mimetype": "text/x-python",
   "name": "python",
   "nbconvert_exporter": "python",
   "pygments_lexer": "ipython3",
   "version": "3.8.5"
  }
 },
 "nbformat": 4,
 "nbformat_minor": 5
}
