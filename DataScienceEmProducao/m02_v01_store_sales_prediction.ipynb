{
 "cells": [
  {
   "cell_type": "markdown",
   "id": "looking-apparatus",
   "metadata": {},
   "source": [
    "# 0.0. IMPORTS"
   ]
  },
  {
   "cell_type": "code",
   "execution_count": 80,
   "id": "generic-hypothesis",
   "metadata": {},
   "outputs": [],
   "source": [
    "import pandas as pd\n",
    "import inflection\n",
    "import math \n",
    "import numpy as np\n",
    "import seaborn as sns\n",
    "import matplotlib\n",
    "import matplotlib.pyplot as plt"
   ]
  },
  {
   "cell_type": "markdown",
   "id": "alive-quantum",
   "metadata": {},
   "source": [
    "## 0.1. Helper Functions"
   ]
  },
  {
   "cell_type": "markdown",
   "id": "chubby-moldova",
   "metadata": {},
   "source": [
    "## 0.2. Loading data"
   ]
  },
  {
   "cell_type": "code",
   "execution_count": 3,
   "id": "biological-bones",
   "metadata": {},
   "outputs": [],
   "source": [
    "df_sales_raw = pd.read_csv( 'data/train.csv', low_memory=False)\n",
    "df_store_raw = pd.read_csv( 'data/store.csv', low_memory=False)"
   ]
  },
  {
   "cell_type": "code",
   "execution_count": 4,
   "id": "natural-porter",
   "metadata": {},
   "outputs": [],
   "source": [
    "#merge\n",
    "\n",
    "df_raw = pd.merge( df_sales_raw, df_store_raw, how='left', on='Store')"
   ]
  },
  {
   "cell_type": "code",
   "execution_count": 5,
   "id": "clear-administration",
   "metadata": {},
   "outputs": [
    {
     "data": {
      "text/html": [
       "<div>\n",
       "<style scoped>\n",
       "    .dataframe tbody tr th:only-of-type {\n",
       "        vertical-align: middle;\n",
       "    }\n",
       "\n",
       "    .dataframe tbody tr th {\n",
       "        vertical-align: top;\n",
       "    }\n",
       "\n",
       "    .dataframe thead th {\n",
       "        text-align: right;\n",
       "    }\n",
       "</style>\n",
       "<table border=\"1\" class=\"dataframe\">\n",
       "  <thead>\n",
       "    <tr style=\"text-align: right;\">\n",
       "      <th></th>\n",
       "      <th>Store</th>\n",
       "      <th>DayOfWeek</th>\n",
       "      <th>Date</th>\n",
       "      <th>Sales</th>\n",
       "      <th>Customers</th>\n",
       "      <th>Open</th>\n",
       "      <th>Promo</th>\n",
       "      <th>StateHoliday</th>\n",
       "      <th>SchoolHoliday</th>\n",
       "      <th>StoreType</th>\n",
       "      <th>Assortment</th>\n",
       "      <th>CompetitionDistance</th>\n",
       "      <th>CompetitionOpenSinceMonth</th>\n",
       "      <th>CompetitionOpenSinceYear</th>\n",
       "      <th>Promo2</th>\n",
       "      <th>Promo2SinceWeek</th>\n",
       "      <th>Promo2SinceYear</th>\n",
       "      <th>PromoInterval</th>\n",
       "    </tr>\n",
       "  </thead>\n",
       "  <tbody>\n",
       "    <tr>\n",
       "      <th>1004970</th>\n",
       "      <td>26</td>\n",
       "      <td>5</td>\n",
       "      <td>2013-01-11</td>\n",
       "      <td>7223</td>\n",
       "      <td>603</td>\n",
       "      <td>1</td>\n",
       "      <td>1</td>\n",
       "      <td>0</td>\n",
       "      <td>0</td>\n",
       "      <td>d</td>\n",
       "      <td>a</td>\n",
       "      <td>2300.0</td>\n",
       "      <td>NaN</td>\n",
       "      <td>NaN</td>\n",
       "      <td>0</td>\n",
       "      <td>NaN</td>\n",
       "      <td>NaN</td>\n",
       "      <td>NaN</td>\n",
       "    </tr>\n",
       "  </tbody>\n",
       "</table>\n",
       "</div>"
      ],
      "text/plain": [
       "         Store  DayOfWeek        Date  Sales  Customers  Open  Promo  \\\n",
       "1004970     26          5  2013-01-11   7223        603     1      1   \n",
       "\n",
       "        StateHoliday  SchoolHoliday StoreType Assortment  CompetitionDistance  \\\n",
       "1004970            0              0         d          a               2300.0   \n",
       "\n",
       "         CompetitionOpenSinceMonth  CompetitionOpenSinceYear  Promo2  \\\n",
       "1004970                        NaN                       NaN       0   \n",
       "\n",
       "         Promo2SinceWeek  Promo2SinceYear PromoInterval  \n",
       "1004970              NaN              NaN           NaN  "
      ]
     },
     "execution_count": 5,
     "metadata": {},
     "output_type": "execute_result"
    }
   ],
   "source": [
    "df_raw.sample()"
   ]
  },
  {
   "cell_type": "markdown",
   "id": "finished-pollution",
   "metadata": {},
   "source": [
    "## 1.0. DESCRIÇÃO DOS DADOS"
   ]
  },
  {
   "cell_type": "code",
   "execution_count": 6,
   "id": "thrown-pathology",
   "metadata": {},
   "outputs": [],
   "source": [
    "df1 = df_raw.copy()"
   ]
  },
  {
   "cell_type": "markdown",
   "id": "bored-portfolio",
   "metadata": {},
   "source": [
    "## 1.1. Rename Columns"
   ]
  },
  {
   "cell_type": "code",
   "execution_count": 7,
   "id": "popular-enterprise",
   "metadata": {},
   "outputs": [],
   "source": [
    "cols_old = ['Store', 'DayOfWeek', 'Date', 'Sales', 'Customers', 'Open', 'Promo',\n",
    "       'StateHoliday', 'SchoolHoliday', 'StoreType', 'Assortment',\n",
    "       'CompetitionDistance', 'CompetitionOpenSinceMonth',\n",
    "       'CompetitionOpenSinceYear', 'Promo2', 'Promo2SinceWeek',\n",
    "       'Promo2SinceYear', 'PromoInterval']\n",
    "snakecase = lambda x: inflection.underscore( x )\n",
    "\n",
    "cols_new = list( map( snakecase, cols_old))\n",
    "\n",
    "#rename\n",
    "df1.columns = cols_new"
   ]
  },
  {
   "cell_type": "markdown",
   "id": "sunrise-operations",
   "metadata": {},
   "source": [
    "## 1.2. Data Dimensions"
   ]
  },
  {
   "cell_type": "code",
   "execution_count": 8,
   "id": "professional-theology",
   "metadata": {},
   "outputs": [
    {
     "name": "stdout",
     "output_type": "stream",
     "text": [
      "Number of Rows: 1017209\n",
      "Number of Cols: 18\n"
     ]
    }
   ],
   "source": [
    "print ( 'Number of Rows: {}' .format(df1.shape[0] ) )\n",
    "print ( 'Number of Cols: {}' .format(df1.shape[1] ) )"
   ]
  },
  {
   "cell_type": "markdown",
   "id": "spiritual-reggae",
   "metadata": {},
   "source": [
    "## 1.3. Data Types"
   ]
  },
  {
   "cell_type": "code",
   "execution_count": 9,
   "id": "needed-reproduction",
   "metadata": {},
   "outputs": [
    {
     "data": {
      "text/plain": [
       "store                                    int64\n",
       "day_of_week                              int64\n",
       "date                            datetime64[ns]\n",
       "sales                                    int64\n",
       "customers                                int64\n",
       "open                                     int64\n",
       "promo                                    int64\n",
       "state_holiday                           object\n",
       "school_holiday                           int64\n",
       "store_type                              object\n",
       "assortment                              object\n",
       "competition_distance                   float64\n",
       "competition_open_since_month           float64\n",
       "competition_open_since_year            float64\n",
       "promo2                                   int64\n",
       "promo2_since_week                      float64\n",
       "promo2_since_year                      float64\n",
       "promo_interval                          object\n",
       "dtype: object"
      ]
     },
     "execution_count": 9,
     "metadata": {},
     "output_type": "execute_result"
    }
   ],
   "source": [
    "df1['date'] = pd.to_datetime( df1['date'])\n",
    "df1.dtypes"
   ]
  },
  {
   "cell_type": "markdown",
   "id": "christian-world",
   "metadata": {},
   "source": [
    "## 1.4. Check NA"
   ]
  },
  {
   "cell_type": "code",
   "execution_count": 10,
   "id": "supported-affect",
   "metadata": {},
   "outputs": [
    {
     "data": {
      "text/plain": [
       "store                                0\n",
       "day_of_week                          0\n",
       "date                                 0\n",
       "sales                                0\n",
       "customers                            0\n",
       "open                                 0\n",
       "promo                                0\n",
       "state_holiday                        0\n",
       "school_holiday                       0\n",
       "store_type                           0\n",
       "assortment                           0\n",
       "competition_distance              2642\n",
       "competition_open_since_month    323348\n",
       "competition_open_since_year     323348\n",
       "promo2                               0\n",
       "promo2_since_week               508031\n",
       "promo2_since_year               508031\n",
       "promo_interval                  508031\n",
       "dtype: int64"
      ]
     },
     "execution_count": 10,
     "metadata": {},
     "output_type": "execute_result"
    }
   ],
   "source": [
    "df1.isna().sum()"
   ]
  },
  {
   "cell_type": "markdown",
   "id": "intense-sister",
   "metadata": {},
   "source": [
    "# 1.5. Fillout NA"
   ]
  },
  {
   "cell_type": "code",
   "execution_count": 11,
   "id": "intended-orientation",
   "metadata": {},
   "outputs": [
    {
     "data": {
      "text/html": [
       "<div>\n",
       "<style scoped>\n",
       "    .dataframe tbody tr th:only-of-type {\n",
       "        vertical-align: middle;\n",
       "    }\n",
       "\n",
       "    .dataframe tbody tr th {\n",
       "        vertical-align: top;\n",
       "    }\n",
       "\n",
       "    .dataframe thead th {\n",
       "        text-align: right;\n",
       "    }\n",
       "</style>\n",
       "<table border=\"1\" class=\"dataframe\">\n",
       "  <thead>\n",
       "    <tr style=\"text-align: right;\">\n",
       "      <th></th>\n",
       "      <th>store</th>\n",
       "      <th>day_of_week</th>\n",
       "      <th>date</th>\n",
       "      <th>sales</th>\n",
       "      <th>customers</th>\n",
       "      <th>open</th>\n",
       "      <th>promo</th>\n",
       "      <th>state_holiday</th>\n",
       "      <th>school_holiday</th>\n",
       "      <th>store_type</th>\n",
       "      <th>assortment</th>\n",
       "      <th>competition_distance</th>\n",
       "      <th>competition_open_since_month</th>\n",
       "      <th>competition_open_since_year</th>\n",
       "      <th>promo2</th>\n",
       "      <th>promo2_since_week</th>\n",
       "      <th>promo2_since_year</th>\n",
       "      <th>promo_interval</th>\n",
       "    </tr>\n",
       "  </thead>\n",
       "  <tbody>\n",
       "    <tr>\n",
       "      <th>316449</th>\n",
       "      <td>718</td>\n",
       "      <td>2</td>\n",
       "      <td>2014-10-07</td>\n",
       "      <td>9118</td>\n",
       "      <td>938</td>\n",
       "      <td>1</td>\n",
       "      <td>1</td>\n",
       "      <td>0</td>\n",
       "      <td>0</td>\n",
       "      <td>a</td>\n",
       "      <td>a</td>\n",
       "      <td>1100.0</td>\n",
       "      <td>6.0</td>\n",
       "      <td>2015.0</td>\n",
       "      <td>0</td>\n",
       "      <td>NaN</td>\n",
       "      <td>NaN</td>\n",
       "      <td>NaN</td>\n",
       "    </tr>\n",
       "  </tbody>\n",
       "</table>\n",
       "</div>"
      ],
      "text/plain": [
       "        store  day_of_week       date  sales  customers  open  promo  \\\n",
       "316449    718            2 2014-10-07   9118        938     1      1   \n",
       "\n",
       "       state_holiday  school_holiday store_type assortment  \\\n",
       "316449             0               0          a          a   \n",
       "\n",
       "        competition_distance  competition_open_since_month  \\\n",
       "316449                1100.0                           6.0   \n",
       "\n",
       "        competition_open_since_year  promo2  promo2_since_week  \\\n",
       "316449                       2015.0       0                NaN   \n",
       "\n",
       "        promo2_since_year promo_interval  \n",
       "316449                NaN            NaN  "
      ]
     },
     "execution_count": 11,
     "metadata": {},
     "output_type": "execute_result"
    }
   ],
   "source": [
    "df1.sample()"
   ]
  },
  {
   "cell_type": "code",
   "execution_count": 29,
   "id": "photographic-customer",
   "metadata": {},
   "outputs": [],
   "source": [
    "#competition_distance   \n",
    "df1.competition_distance.fillna(200000., inplace=True)\n",
    "\n",
    "#competition_open_since_month \n",
    "df1.competition_open_since_month.fillna(df1.date.dt.month, inplace=True)\n",
    "\n",
    "#competition_open_since_year\n",
    "df1.competition_open_since_year.fillna(df1.date.dt.year, inplace=True)\n",
    "\n",
    "#promo2_since_week\n",
    "df1.promo2_since_week.fillna(df1.date.dt.isocalendar().week, inplace=True)\n",
    "\n",
    "#promo2_since_year\n",
    "df1.promo2_since_year.fillna(df1.date.dt.year, inplace=True)\n",
    "\n",
    "# substitui os 0 para '', assim não será necessário um dos if's do is_promo\n",
    "df1['promo_interval'].replace(0, '', inplace=True)\n",
    "# mesmo aqui\n",
    "df1['promo_interval'].fillna('', inplace=True) \n",
    "\n",
    "# obtem a abreviatura do mês\n",
    "df1['month_map'] = df1['date'].dt.strftime(\"%b\") \n",
    "\n",
    "# como não tem 0's mais, tudo vai ser string, então podemos remover aqueles if's\n",
    "df1['is_promo'] = df1[['promo_interval', 'month_map']].apply(lambda x: x['month_map'] in x['promo_interval'].split( ',' ), axis='columns').astype('int')"
   ]
  },
  {
   "cell_type": "markdown",
   "id": "irish-drunk",
   "metadata": {},
   "source": [
    "# 1.6. Change Types"
   ]
  },
  {
   "cell_type": "code",
   "execution_count": 32,
   "id": "nonprofit-county",
   "metadata": {},
   "outputs": [
    {
     "data": {
      "text/plain": [
       "store                                    int64\n",
       "day_of_week                              int64\n",
       "date                            datetime64[ns]\n",
       "sales                                    int64\n",
       "customers                                int64\n",
       "open                                     int64\n",
       "promo                                    int64\n",
       "state_holiday                           object\n",
       "school_holiday                           int64\n",
       "store_type                              object\n",
       "assortment                              object\n",
       "competition_distance                   float64\n",
       "competition_open_since_month             int64\n",
       "competition_open_since_year              int64\n",
       "promo2                                   int64\n",
       "promo2_since_week                        int64\n",
       "promo2_since_year                        int64\n",
       "promo_interval                          object\n",
       "month_map                               object\n",
       "is_promo                                 int64\n",
       "dtype: object"
      ]
     },
     "execution_count": 32,
     "metadata": {},
     "output_type": "execute_result"
    }
   ],
   "source": [
    "df1.dtypes"
   ]
  },
  {
   "cell_type": "code",
   "execution_count": 31,
   "id": "alleged-guard",
   "metadata": {},
   "outputs": [],
   "source": [
    "df1['competition_open_since_month'] = df1['competition_open_since_month'].astype( 'int64' )\n",
    "df1['competition_open_since_year'] = df1['competition_open_since_year'].astype( 'int64' )\n",
    "\n",
    "df1['promo2_since_week'] = df1['promo2_since_week'].astype( 'int64' )\n",
    "df1['promo2_since_year'] = df1['promo2_since_year'].astype( 'int64' )\n",
    "\n",
    "df1['is_promo'] = df1['is_promo'].astype( 'int64' )\n"
   ]
  },
  {
   "cell_type": "markdown",
   "id": "coastal-cylinder",
   "metadata": {},
   "source": [
    "# 1.7. Descriptive Statistical"
   ]
  },
  {
   "cell_type": "code",
   "execution_count": 38,
   "id": "fifty-clarity",
   "metadata": {},
   "outputs": [],
   "source": [
    "num_attributes = df1.select_dtypes( include=['int64', 'float64'])\n",
    "cat_attributes = df1.select_dtypes( exclude=['int64', 'float64', 'datetime64[ns]'])\n"
   ]
  },
  {
   "cell_type": "markdown",
   "id": "middle-marina",
   "metadata": {},
   "source": [
    "# 1.7.1 Numerical Attributes"
   ]
  },
  {
   "cell_type": "code",
   "execution_count": 90,
   "id": "abstract-physiology",
   "metadata": {},
   "outputs": [
    {
     "data": {
      "text/html": [
       "<div>\n",
       "<style scoped>\n",
       "    .dataframe tbody tr th:only-of-type {\n",
       "        vertical-align: middle;\n",
       "    }\n",
       "\n",
       "    .dataframe tbody tr th {\n",
       "        vertical-align: top;\n",
       "    }\n",
       "\n",
       "    .dataframe thead th {\n",
       "        text-align: right;\n",
       "    }\n",
       "</style>\n",
       "<table border=\"1\" class=\"dataframe\">\n",
       "  <thead>\n",
       "    <tr style=\"text-align: right;\">\n",
       "      <th></th>\n",
       "      <th>attribute</th>\n",
       "      <th>min</th>\n",
       "      <th>max</th>\n",
       "      <th>range</th>\n",
       "      <th>mean</th>\n",
       "      <th>median</th>\n",
       "      <th>std</th>\n",
       "      <th>skew</th>\n",
       "      <th>kurtosis</th>\n",
       "    </tr>\n",
       "  </thead>\n",
       "  <tbody>\n",
       "    <tr>\n",
       "      <th>0</th>\n",
       "      <td>store</td>\n",
       "      <td>1.0</td>\n",
       "      <td>1115.0</td>\n",
       "      <td>1114.0</td>\n",
       "      <td>558.429727</td>\n",
       "      <td>558.0</td>\n",
       "      <td>321.908493</td>\n",
       "      <td>-0.000955</td>\n",
       "      <td>-1.200524</td>\n",
       "    </tr>\n",
       "    <tr>\n",
       "      <th>1</th>\n",
       "      <td>day_of_week</td>\n",
       "      <td>1.0</td>\n",
       "      <td>7.0</td>\n",
       "      <td>6.0</td>\n",
       "      <td>3.998341</td>\n",
       "      <td>4.0</td>\n",
       "      <td>1.997390</td>\n",
       "      <td>0.001593</td>\n",
       "      <td>-1.246873</td>\n",
       "    </tr>\n",
       "    <tr>\n",
       "      <th>2</th>\n",
       "      <td>sales</td>\n",
       "      <td>0.0</td>\n",
       "      <td>41551.0</td>\n",
       "      <td>41551.0</td>\n",
       "      <td>5773.818972</td>\n",
       "      <td>5744.0</td>\n",
       "      <td>3849.924283</td>\n",
       "      <td>0.641460</td>\n",
       "      <td>1.778375</td>\n",
       "    </tr>\n",
       "    <tr>\n",
       "      <th>3</th>\n",
       "      <td>customers</td>\n",
       "      <td>0.0</td>\n",
       "      <td>7388.0</td>\n",
       "      <td>7388.0</td>\n",
       "      <td>633.145946</td>\n",
       "      <td>609.0</td>\n",
       "      <td>464.411506</td>\n",
       "      <td>1.598650</td>\n",
       "      <td>7.091773</td>\n",
       "    </tr>\n",
       "    <tr>\n",
       "      <th>4</th>\n",
       "      <td>open</td>\n",
       "      <td>0.0</td>\n",
       "      <td>1.0</td>\n",
       "      <td>1.0</td>\n",
       "      <td>0.830107</td>\n",
       "      <td>1.0</td>\n",
       "      <td>0.375539</td>\n",
       "      <td>-1.758045</td>\n",
       "      <td>1.090723</td>\n",
       "    </tr>\n",
       "  </tbody>\n",
       "</table>\n",
       "</div>"
      ],
      "text/plain": [
       "     attribute  min      max    range         mean  median          std  \\\n",
       "0        store  1.0   1115.0   1114.0   558.429727   558.0   321.908493   \n",
       "1  day_of_week  1.0      7.0      6.0     3.998341     4.0     1.997390   \n",
       "2        sales  0.0  41551.0  41551.0  5773.818972  5744.0  3849.924283   \n",
       "3    customers  0.0   7388.0   7388.0   633.145946   609.0   464.411506   \n",
       "4         open  0.0      1.0      1.0     0.830107     1.0     0.375539   \n",
       "\n",
       "       skew  kurtosis  \n",
       "0 -0.000955 -1.200524  \n",
       "1  0.001593 -1.246873  \n",
       "2  0.641460  1.778375  \n",
       "3  1.598650  7.091773  \n",
       "4 -1.758045  1.090723  "
      ]
     },
     "execution_count": 90,
     "metadata": {},
     "output_type": "execute_result"
    }
   ],
   "source": [
    "# Central Tendency - mean, median\n",
    "ct1 = pd.DataFrame( num_attributes.apply( np.mean )).T\n",
    "ct2 = pd.DataFrame( num_attributes.apply( np.median )).T\n",
    "\n",
    "# Dispersion - std, min, max, range, skew, kurtosis\n",
    "d1 = pd.DataFrame( num_attributes.apply( np.std )).T\n",
    "d2 = pd.DataFrame( num_attributes.apply( min )).T\n",
    "d3 = pd.DataFrame( num_attributes.apply( max )).T\n",
    "d4 = pd.DataFrame( num_attributes.apply( lambda x: x.max() - x.min() )).T\n",
    "d5 = pd.DataFrame( num_attributes.apply( lambda x: x.skew() )).T\n",
    "d6 = pd.DataFrame( num_attributes.apply( lambda x: x.kurtosis() )).T\n",
    "\n",
    "#concatenate\n",
    "m = pd.concat( [d2, d3, d4, ct1, ct2, d1, d5, d6] ).T.reset_index()\n",
    "m.columns = ['attribute', 'min', 'max', 'range', 'mean', 'median', 'std', 'skew', 'kurtosis']\n",
    "m.head(5)"
   ]
  },
  {
   "cell_type": "markdown",
   "id": "earlier-organization",
   "metadata": {},
   "source": [
    "## 1.7.2 Categorical Attributes"
   ]
  },
  {
   "cell_type": "code",
   "execution_count": 78,
   "id": "conditional-stick",
   "metadata": {},
   "outputs": [
    {
     "data": {
      "text/plain": [
       "state_holiday      4\n",
       "store_type         4\n",
       "assortment         3\n",
       "promo_interval     4\n",
       "month_map         12\n",
       "dtype: int64"
      ]
     },
     "execution_count": 78,
     "metadata": {},
     "output_type": "execute_result"
    }
   ],
   "source": [
    "cat_attributes.apply( lambda x: x.unique().shape[0])"
   ]
  },
  {
   "cell_type": "code",
   "execution_count": 89,
   "id": "following-boring",
   "metadata": {},
   "outputs": [
    {
     "data": {
      "text/plain": [
       "<AxesSubplot:xlabel='assortment', ylabel='sales'>"
      ]
     },
     "execution_count": 89,
     "metadata": {},
     "output_type": "execute_result"
    },
    {
     "data": {
      "image/png": "[encoded data removed]",
      "text/plain": [
       "<Figure size 432x288 with 3 Axes>"
      ]
     },
     "metadata": {
      "needs_background": "light"
     },
     "output_type": "display_data"
    }
   ],
   "source": [
    "aux1 = df1[(df1['state_holiday'] != '0' ) & (df1['sales'] > 0)] \n",
    "\n",
    "plt.subplot(1,3,1)\n",
    "sns.boxplot( x='state_holiday', y='sales', data= aux1)\n",
    "\n",
    "plt.subplot(1,3,2)\n",
    "sns.boxplot( x='store_type', y='sales', data= aux1)\n",
    "\n",
    "plt.subplot(1,3,3)\n",
    "plt.tight_layout()\n",
    "sns.boxplot( x='assortment', y='sales', data= aux1)"
   ]
  },
  {
   "cell_type": "code",
   "execution_count": null,
   "id": "statistical-champagne",
   "metadata": {},
   "outputs": [],
   "source": []
  }
 ],
 "metadata": {
  "kernelspec": {
   "display_name": "Python 3",
   "language": "python",
   "name": "python3"
  },
  "language_info": {
   "codemirror_mode": {
    "name": "ipython",
    "version": 3
   },
   "file_extension": ".py",
   "mimetype": "text/x-python",
   "name": "python",
   "nbconvert_exporter": "python",
   "pygments_lexer": "ipython3",
   "version": "3.9.1"
  }
 },
 "nbformat": 4,
 "nbformat_minor": 5
}
