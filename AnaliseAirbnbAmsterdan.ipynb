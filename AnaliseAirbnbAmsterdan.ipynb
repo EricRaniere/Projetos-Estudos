{
  "nbformat": 4,
  "nbformat_minor": 0,
  "metadata": {
    "colab": {
      "name": "AnaliseAirbnbAmsterdan.ipynb",
      "provenance": [],
      "collapsed_sections": [],
      "toc_visible": true,
      "include_colab_link": true
    },
    "kernelspec": {
      "name": "python3",
      "display_name": "Python 3"
    }
  },
  "cells": [
    {
      "cell_type": "markdown",
      "metadata": {
        "id": "view-in-github",
        "colab_type": "text"
      },
      "source": [
        "<a href=\"https://colab.research.google.com/github/EricRaniere/Projetos-Estudos/blob/main/AnaliseAirbnbAmsterdan.ipynb\" target=\"_parent\"><img src=\"https://colab.research.google.com/assets/colab-badge.svg\" alt=\"Open In Colab\"/></a>"
      ]
    },
    {
      "cell_type": "markdown",
      "metadata": {
        "id": "mU85MP7WP7AE"
      },
      "source": [
        "Data Science na Prática\n",
        "\n",
        "Éric Costa\n",
        "\n",
        "Módulo 01\n",
        "\n",
        "---\n",
        "\n",
        "O [Airbnb](https://news.airbnb.com/about-us/) é hoje a principal plataforma de compartilhamento e oferta de hospedagem do mundo. \n",
        "\n",
        "O negócio criado em 2007 é atualmente responsável por **5.6 milhões de anúncios ativos** de hospedagem espalhados por **100.000 cidades** em mais de **220 países**[*](https://news.airbnb.com/about-us/). \n",
        "\n",
        "Sua rede hoje conta com mais de **4 milhões de Anfitriões**, pessoas que oferencem seus imóveis na plataforma, gerando uma receita média de **$7.900,00 por ano** para cada Anfitrião. \n",
        "\n",
        "Uma das iniciativas mais interessantes do Airbnb é o fato da empresa disponibilizar dados da sua plataforma para fomentar o estudo e desenvolvimento de insights. Os dados disponibilizados são previamente tratados e anonimizados, evitando a quebra de sigilo dos seus usuários. Todos os dados estão públicados na plataforma [Inside Airbnb](http://insideairbnb.com/get-the-data.html).\n",
        "\n",
        "Nesse notebook vou realizar a primeira tarefa do curso **Data Science na Prática** da **[Sigmoidal](https://sigmoidal.ai/)** e analisar os dados da cidade de **Amsterdão**, a idéia é extrair o máximo de insights relevantes sobre a base de dados.\n",
        "\n",
        "\n"
      ]
    },
    {
      "cell_type": "markdown",
      "metadata": {
        "id": "0zxQHhIUDF_2"
      },
      "source": [
        "## Obtenção dos Dados\n"
      ]
    },
    {
      "cell_type": "markdown",
      "metadata": {
        "id": "tOyD8tbhj6gr"
      },
      "source": [
        "Para a análise exploratória inicial, irei utilizar o seguinte arquivo:\n",
        "\n",
        "* `listings.csv`\n",
        " \n"
      ]
    },
    {
      "cell_type": "code",
      "metadata": {
        "id": "Vhp2wMPgJ6zX"
      },
      "source": [
        "# importar os pacotes necessarios\n",
        "import pandas as pd\n",
        "import matplotlib.pyplot as plt\n",
        "import seaborn as sns\n",
        "import numpy as np\n",
        "\n",
        "\n",
        "%matplotlib inline"
      ],
      "execution_count": 1,
      "outputs": []
    },
    {
      "cell_type": "code",
      "metadata": {
        "id": "tUmoAT8DLQ5T"
      },
      "source": [
        "# importar o arquivo listings.csv para um DataFrame\n",
        "df = pd.read_csv(\"http://data.insideairbnb.com/the-netherlands/north-holland/amsterdam/2021-04-09/visualisations/listings.csv\")"
      ],
      "execution_count": 2,
      "outputs": []
    },
    {
      "cell_type": "markdown",
      "metadata": {
        "id": "qb5By2nIMS6m"
      },
      "source": [
        "## Análise dos Dados\n",
        "Nessa etapa vou buscar entender como os dados estão estruturados e buscar relacionar a que cada variável esta associada."
      ]
    },
    {
      "cell_type": "markdown",
      "metadata": {
        "id": "wDpI2ARJv_DR"
      },
      "source": [
        "\n",
        "* `id` - número de id gerado para identificar o imóvel\n",
        "* `name` - nome da propriedade anunciada\n",
        "* `host_id` - número de id do proprietário (anfitrião) da propriedade\n",
        "* `host_name` - Nome do anfitrião\n",
        "* `neighbourhood_group` - esta coluna não contém nenhum valor válido\n",
        "* `neighbourhood` - nome do bairro\n",
        "* `latitude` - coordenada da latitude da propriedade\n",
        "* `longitude` - coordenada da longitude da propriedade\n",
        "* `room_type` - informa o tipo de quarto que é oferecido\n",
        "* `price` - preço para alugar o imóvel\n",
        "* `minimum_nights` - quantidade mínima de noites para reservar\n",
        "* `number_of_reviews` - número de reviews que a propriedade possui\n",
        "* `last_review` - data do último review\n",
        "* `reviews_per_month` - quantidade de reviews por mês\n",
        "* `calculated_host_listings_count` - quantidade de imóveis do mesmo anfitrião\n",
        "* `availability_365` - número de dias de disponibilidade dentro de 365 dias\n"
      ]
    },
    {
      "cell_type": "code",
      "metadata": {
        "id": "2iS_dae7YQtO",
        "colab": {
          "base_uri": "https://localhost:8080/",
          "height": 513
        },
        "outputId": "7048c45d-ec76-4c2a-9378-65b15a3eed36"
      },
      "source": [
        "# mostrar as 5 primeiras entradas\n",
        "df.head(5)"
      ],
      "execution_count": 3,
      "outputs": [
        {
          "output_type": "execute_result",
          "data": {
            "text/html": [
              "<div>\n",
              "<style scoped>\n",
              "    .dataframe tbody tr th:only-of-type {\n",
              "        vertical-align: middle;\n",
              "    }\n",
              "\n",
              "    .dataframe tbody tr th {\n",
              "        vertical-align: top;\n",
              "    }\n",
              "\n",
              "    .dataframe thead th {\n",
              "        text-align: right;\n",
              "    }\n",
              "</style>\n",
              "<table border=\"1\" class=\"dataframe\">\n",
              "  <thead>\n",
              "    <tr style=\"text-align: right;\">\n",
              "      <th></th>\n",
              "      <th>id</th>\n",
              "      <th>name</th>\n",
              "      <th>host_id</th>\n",
              "      <th>host_name</th>\n",
              "      <th>neighbourhood_group</th>\n",
              "      <th>neighbourhood</th>\n",
              "      <th>latitude</th>\n",
              "      <th>longitude</th>\n",
              "      <th>room_type</th>\n",
              "      <th>price</th>\n",
              "      <th>minimum_nights</th>\n",
              "      <th>number_of_reviews</th>\n",
              "      <th>last_review</th>\n",
              "      <th>reviews_per_month</th>\n",
              "      <th>calculated_host_listings_count</th>\n",
              "      <th>availability_365</th>\n",
              "    </tr>\n",
              "  </thead>\n",
              "  <tbody>\n",
              "    <tr>\n",
              "      <th>0</th>\n",
              "      <td>2818</td>\n",
              "      <td>Quiet Garden View Room &amp; Super Fast WiFi</td>\n",
              "      <td>3159</td>\n",
              "      <td>Daniel</td>\n",
              "      <td>NaN</td>\n",
              "      <td>Oostelijk Havengebied - Indische Buurt</td>\n",
              "      <td>52.36435</td>\n",
              "      <td>4.94358</td>\n",
              "      <td>Private room</td>\n",
              "      <td>59</td>\n",
              "      <td>3</td>\n",
              "      <td>278</td>\n",
              "      <td>2020-02-14</td>\n",
              "      <td>1.90</td>\n",
              "      <td>1</td>\n",
              "      <td>152</td>\n",
              "    </tr>\n",
              "    <tr>\n",
              "      <th>1</th>\n",
              "      <td>20168</td>\n",
              "      <td>Studio with private bathroom in the centre 1</td>\n",
              "      <td>59484</td>\n",
              "      <td>Alexander</td>\n",
              "      <td>NaN</td>\n",
              "      <td>Centrum-Oost</td>\n",
              "      <td>52.36407</td>\n",
              "      <td>4.89393</td>\n",
              "      <td>Private room</td>\n",
              "      <td>200</td>\n",
              "      <td>1</td>\n",
              "      <td>339</td>\n",
              "      <td>2020-04-09</td>\n",
              "      <td>2.50</td>\n",
              "      <td>2</td>\n",
              "      <td>0</td>\n",
              "    </tr>\n",
              "    <tr>\n",
              "      <th>2</th>\n",
              "      <td>25428</td>\n",
              "      <td>Lovely, 1 bed apt in Ctr (w.lift) -3/20-6/20(f...</td>\n",
              "      <td>56142</td>\n",
              "      <td>Joan</td>\n",
              "      <td>NaN</td>\n",
              "      <td>Centrum-West</td>\n",
              "      <td>52.37490</td>\n",
              "      <td>4.88487</td>\n",
              "      <td>Entire home/apt</td>\n",
              "      <td>125</td>\n",
              "      <td>14</td>\n",
              "      <td>5</td>\n",
              "      <td>2020-02-09</td>\n",
              "      <td>0.13</td>\n",
              "      <td>2</td>\n",
              "      <td>132</td>\n",
              "    </tr>\n",
              "    <tr>\n",
              "      <th>3</th>\n",
              "      <td>27886</td>\n",
              "      <td>Romantic, stylish B&amp;B houseboat in canal district</td>\n",
              "      <td>97647</td>\n",
              "      <td>Flip</td>\n",
              "      <td>NaN</td>\n",
              "      <td>Centrum-West</td>\n",
              "      <td>52.38761</td>\n",
              "      <td>4.89188</td>\n",
              "      <td>Private room</td>\n",
              "      <td>141</td>\n",
              "      <td>2</td>\n",
              "      <td>219</td>\n",
              "      <td>2020-07-25</td>\n",
              "      <td>1.94</td>\n",
              "      <td>1</td>\n",
              "      <td>66</td>\n",
              "    </tr>\n",
              "    <tr>\n",
              "      <th>4</th>\n",
              "      <td>28871</td>\n",
              "      <td>Comfortable double room</td>\n",
              "      <td>124245</td>\n",
              "      <td>Edwin</td>\n",
              "      <td>NaN</td>\n",
              "      <td>Centrum-West</td>\n",
              "      <td>52.36775</td>\n",
              "      <td>4.89092</td>\n",
              "      <td>Private room</td>\n",
              "      <td>75</td>\n",
              "      <td>2</td>\n",
              "      <td>336</td>\n",
              "      <td>2020-09-20</td>\n",
              "      <td>2.59</td>\n",
              "      <td>2</td>\n",
              "      <td>335</td>\n",
              "    </tr>\n",
              "  </tbody>\n",
              "</table>\n",
              "</div>"
            ],
            "text/plain": [
              "      id  ... availability_365\n",
              "0   2818  ...              152\n",
              "1  20168  ...                0\n",
              "2  25428  ...              132\n",
              "3  27886  ...               66\n",
              "4  28871  ...              335\n",
              "\n",
              "[5 rows x 16 columns]"
            ]
          },
          "metadata": {
            "tags": []
          },
          "execution_count": 3
        }
      ]
    },
    {
      "cell_type": "markdown",
      "metadata": {
        "id": "6-B_qtEaYEd-"
      },
      "source": [
        "### **Q1. Quantos atributos (variáveis) e quantas entradas o nosso conjunto de dados possui? Quais os tipos das variáveis?**\n",
        "\n",
        "`listings.csv.gz`"
      ]
    },
    {
      "cell_type": "code",
      "metadata": {
        "id": "TFRK0tniLV-G",
        "colab": {
          "base_uri": "https://localhost:8080/",
          "height": 357
        },
        "outputId": "ba03b155-954c-4b15-a94c-37a63cc7c500"
      },
      "source": [
        "# identificar o volume de dados do DataFrame\n",
        "print(\"Entradas:\\t {}\".format(df.shape[0]))\n",
        "print(\"Variáveis:\\t {}\\n\".format(df.shape[1]))\n",
        "# verificar as 5 primeiras entradas do dataset\n",
        "display(df.dtypes)"
      ],
      "execution_count": 4,
      "outputs": [
        {
          "output_type": "stream",
          "text": [
            "Entradas:\t 17825\n",
            "Variáveis:\t 16\n",
            "\n"
          ],
          "name": "stdout"
        },
        {
          "output_type": "display_data",
          "data": {
            "text/plain": [
              "id                                  int64\n",
              "name                               object\n",
              "host_id                             int64\n",
              "host_name                          object\n",
              "neighbourhood_group               float64\n",
              "neighbourhood                      object\n",
              "latitude                          float64\n",
              "longitude                         float64\n",
              "room_type                          object\n",
              "price                               int64\n",
              "minimum_nights                      int64\n",
              "number_of_reviews                   int64\n",
              "last_review                        object\n",
              "reviews_per_month                 float64\n",
              "calculated_host_listings_count      int64\n",
              "availability_365                    int64\n",
              "dtype: object"
            ]
          },
          "metadata": {
            "tags": []
          }
        }
      ]
    },
    {
      "cell_type": "markdown",
      "metadata": {
        "id": "yz1urSUGW9iE"
      },
      "source": [
        "### **Q2. Qual a porcentagem de valores ausentes no *dataset*?**"
      ]
    },
    {
      "cell_type": "code",
      "metadata": {
        "id": "plk2FjbCXOqP",
        "colab": {
          "base_uri": "https://localhost:8080/"
        },
        "outputId": "ea11442d-e10a-4fd6-bfa0-0ed4026e03f4"
      },
      "source": [
        "# ordenar em ordem decrescente as variáveis por seus valores ausentes\n",
        "(df.isnull().sum() / df.shape[0]).sort_values(ascending=False)"
      ],
      "execution_count": 5,
      "outputs": [
        {
          "output_type": "execute_result",
          "data": {
            "text/plain": [
              "neighbourhood_group               1.000000\n",
              "reviews_per_month                 0.134642\n",
              "last_review                       0.134642\n",
              "host_name                         0.033380\n",
              "name                              0.001795\n",
              "availability_365                  0.000000\n",
              "calculated_host_listings_count    0.000000\n",
              "number_of_reviews                 0.000000\n",
              "minimum_nights                    0.000000\n",
              "price                             0.000000\n",
              "room_type                         0.000000\n",
              "longitude                         0.000000\n",
              "latitude                          0.000000\n",
              "neighbourhood                     0.000000\n",
              "host_id                           0.000000\n",
              "id                                0.000000\n",
              "dtype: float64"
            ]
          },
          "metadata": {
            "tags": []
          },
          "execution_count": 5
        }
      ]
    },
    {
      "cell_type": "markdown",
      "metadata": {
        "id": "K6YZ7kBkRP79"
      },
      "source": [
        "#### Q2.1 Eliminar colunas com dados totalmente ausentes\n",
        "Com o comando anterior temos a conclusão de que a coluna `neighbourhood_group`pode ser eliminada do nosso DataSet."
      ]
    },
    {
      "cell_type": "code",
      "metadata": {
        "colab": {
          "base_uri": "https://localhost:8080/"
        },
        "id": "QvANH-_HRuva",
        "outputId": "f0c65bca-cd7c-4f5e-ccfd-7c7edb46697f"
      },
      "source": [
        "#criando uma cópia do DF para limpeza. Objetivo de ter um backup.\n",
        "df_clean=df.copy()\n",
        "#eliminando a coluna neighbourhood_group, que está totalmente vazia\n",
        "df_clean.drop('neighbourhood_group',axis=1,inplace=True)\n",
        "# ordenar novamente em ordem decrescente as variáveis por seus valores ausentes\n",
        "(df_clean.isnull().sum() / df_clean.shape[0]).sort_values(ascending=False)\n"
      ],
      "execution_count": 6,
      "outputs": [
        {
          "output_type": "execute_result",
          "data": {
            "text/plain": [
              "reviews_per_month                 0.134642\n",
              "last_review                       0.134642\n",
              "host_name                         0.033380\n",
              "name                              0.001795\n",
              "availability_365                  0.000000\n",
              "calculated_host_listings_count    0.000000\n",
              "number_of_reviews                 0.000000\n",
              "minimum_nights                    0.000000\n",
              "price                             0.000000\n",
              "room_type                         0.000000\n",
              "longitude                         0.000000\n",
              "latitude                          0.000000\n",
              "neighbourhood                     0.000000\n",
              "host_id                           0.000000\n",
              "id                                0.000000\n",
              "dtype: float64"
            ]
          },
          "metadata": {
            "tags": []
          },
          "execution_count": 6
        }
      ]
    },
    {
      "cell_type": "markdown",
      "metadata": {
        "id": "iHXvvHIxaoNc"
      },
      "source": [
        "### **Q3. Qual o tipo de distribuição das variáveis?** "
      ]
    },
    {
      "cell_type": "code",
      "metadata": {
        "id": "q2wWSfeRbmBo",
        "colab": {
          "base_uri": "https://localhost:8080/",
          "height": 607
        },
        "outputId": "3e608ae1-dd07-4dab-9b14-74d68000e734"
      },
      "source": [
        "# plotar o histograma das variáveis numéricas\n",
        "df_clean.hist(bins=5,figsize=(15,10));"
      ],
      "execution_count": 7,
      "outputs": [
        {
          "output_type": "display_data",
          "data": {
            "image/png": "[encoded data removed]",
            "text/plain": [
              "<Figure size 1080x720 with 12 Axes>"
            ]
          },
          "metadata": {
            "tags": [],
            "needs_background": "light"
          }
        }
      ]
    },
    {
      "cell_type": "markdown",
      "metadata": {
        "id": "1G0k9wAmOvFV"
      },
      "source": [
        "####Q.3.1 Normalizando Outliers\n",
        "Com os Histogramas foi possível verificar que existem `outliers` no nosso dataset. Em especial nas colunas `price`, `minimum_nights`, `number_of_reviews`, `reviews_per_month`, `calculated_host_listings_count`.\n",
        "\n",
        "\n"
      ]
    },
    {
      "cell_type": "code",
      "metadata": {
        "colab": {
          "base_uri": "https://localhost:8080/",
          "height": 297
        },
        "id": "8MI7SY3YQC0Q",
        "outputId": "06a2e366-45e9-4c6a-d2ca-4b74175f582f"
      },
      "source": [
        "df_clean[['price','minimum_nights','number_of_reviews','reviews_per_month','calculated_host_listings_count']].describe()"
      ],
      "execution_count": 8,
      "outputs": [
        {
          "output_type": "execute_result",
          "data": {
            "text/html": [
              "<div>\n",
              "<style scoped>\n",
              "    .dataframe tbody tr th:only-of-type {\n",
              "        vertical-align: middle;\n",
              "    }\n",
              "\n",
              "    .dataframe tbody tr th {\n",
              "        vertical-align: top;\n",
              "    }\n",
              "\n",
              "    .dataframe thead th {\n",
              "        text-align: right;\n",
              "    }\n",
              "</style>\n",
              "<table border=\"1\" class=\"dataframe\">\n",
              "  <thead>\n",
              "    <tr style=\"text-align: right;\">\n",
              "      <th></th>\n",
              "      <th>price</th>\n",
              "      <th>minimum_nights</th>\n",
              "      <th>number_of_reviews</th>\n",
              "      <th>reviews_per_month</th>\n",
              "      <th>calculated_host_listings_count</th>\n",
              "    </tr>\n",
              "  </thead>\n",
              "  <tbody>\n",
              "    <tr>\n",
              "      <th>count</th>\n",
              "      <td>17825.000000</td>\n",
              "      <td>17825.000000</td>\n",
              "      <td>17825.000000</td>\n",
              "      <td>15425.000000</td>\n",
              "      <td>17825.000000</td>\n",
              "    </tr>\n",
              "    <tr>\n",
              "      <th>mean</th>\n",
              "      <td>154.495877</td>\n",
              "      <td>3.867041</td>\n",
              "      <td>23.952875</td>\n",
              "      <td>0.562200</td>\n",
              "      <td>2.684376</td>\n",
              "    </tr>\n",
              "    <tr>\n",
              "      <th>std</th>\n",
              "      <td>154.162566</td>\n",
              "      <td>18.732039</td>\n",
              "      <td>54.831150</td>\n",
              "      <td>1.017706</td>\n",
              "      <td>8.813855</td>\n",
              "    </tr>\n",
              "    <tr>\n",
              "      <th>min</th>\n",
              "      <td>0.000000</td>\n",
              "      <td>1.000000</td>\n",
              "      <td>0.000000</td>\n",
              "      <td>0.010000</td>\n",
              "      <td>1.000000</td>\n",
              "    </tr>\n",
              "    <tr>\n",
              "      <th>25%</th>\n",
              "      <td>95.000000</td>\n",
              "      <td>2.000000</td>\n",
              "      <td>2.000000</td>\n",
              "      <td>0.120000</td>\n",
              "      <td>1.000000</td>\n",
              "    </tr>\n",
              "    <tr>\n",
              "      <th>50%</th>\n",
              "      <td>129.000000</td>\n",
              "      <td>2.000000</td>\n",
              "      <td>8.000000</td>\n",
              "      <td>0.260000</td>\n",
              "      <td>1.000000</td>\n",
              "    </tr>\n",
              "    <tr>\n",
              "      <th>75%</th>\n",
              "      <td>180.000000</td>\n",
              "      <td>3.000000</td>\n",
              "      <td>21.000000</td>\n",
              "      <td>0.540000</td>\n",
              "      <td>1.000000</td>\n",
              "    </tr>\n",
              "    <tr>\n",
              "      <th>max</th>\n",
              "      <td>8000.000000</td>\n",
              "      <td>1100.000000</td>\n",
              "      <td>860.000000</td>\n",
              "      <td>32.190000</td>\n",
              "      <td>85.000000</td>\n",
              "    </tr>\n",
              "  </tbody>\n",
              "</table>\n",
              "</div>"
            ],
            "text/plain": [
              "              price  ...  calculated_host_listings_count\n",
              "count  17825.000000  ...                    17825.000000\n",
              "mean     154.495877  ...                        2.684376\n",
              "std      154.162566  ...                        8.813855\n",
              "min        0.000000  ...                        1.000000\n",
              "25%       95.000000  ...                        1.000000\n",
              "50%      129.000000  ...                        1.000000\n",
              "75%      180.000000  ...                        1.000000\n",
              "max     8000.000000  ...                       85.000000\n",
              "\n",
              "[8 rows x 5 columns]"
            ]
          },
          "metadata": {
            "tags": []
          },
          "execution_count": 8
        }
      ]
    },
    {
      "cell_type": "markdown",
      "metadata": {
        "id": "QbrPdrJxUzmZ"
      },
      "source": [
        "Algumas análises podem ser feitas com os dados acima.\n",
        "\n",
        "A média de valores da coluna `price` é de 154.162 e 75% dos seus valores estão no valor de até 180.00 porém seu valor máximo chegou a 8000.00 \n",
        "\n",
        "Mesma análise pode ser realizada na coluna `minimum_nights`, sua mediana é de 3.86 e 75% dos seus valores estão em até 3 diárias, mas seu valor máximo é de 1100, fazendo com que sua média distoe da mediana e chegue a 18.73. "
      ]
    },
    {
      "cell_type": "markdown",
      "metadata": {
        "id": "EmkhfHCffGYa"
      },
      "source": [
        "#####Q.3.1.1 Minimum Nights"
      ]
    },
    {
      "cell_type": "code",
      "metadata": {
        "colab": {
          "base_uri": "https://localhost:8080/",
          "height": 466
        },
        "id": "rG5AZVC4UdwJ",
        "outputId": "b58f0cf0-0804-4443-d1bd-ac96a436ca49"
      },
      "source": [
        "#verificando outliers com Box_plot\n",
        "#minimum_nights\n",
        "df_clean.minimum_nights.plot(kind='box', vert=False, figsize=(15,3))\n",
        "\n",
        "#ver quantidade de valores acima de 30 dias para minimum_nights\n",
        "print('minimum_nights: valores acima de 10:')\n",
        "print('{} entradas'.format(len(df_clean[df_clean.minimum_nights > 10])))\n",
        "print('{:.2f}%'.format((len(df_clean[df_clean.minimum_nights > 10])/df_clean.shape[0])*100))\n",
        "print('minimum_nights: valores acima de 20:')\n",
        "print('{} entradas'.format(len(df_clean[df_clean.minimum_nights > 20])))\n",
        "print('{:.2f}%'.format((len(df_clean[df_clean.minimum_nights > 20])/df_clean.shape[0])*100))\n",
        "print('minimum_nights: valores acima de 30:')\n",
        "print('{} entradas'.format(len(df_clean[df_clean.minimum_nights > 30])))\n",
        "print('{:.2f}%'.format((len(df_clean[df_clean.minimum_nights > 30])/df_clean.shape[0])*100))\n",
        "print('minimum_nights: valores acima de 40:')\n",
        "print('{} entradas'.format(len(df_clean[df_clean.minimum_nights > 40])))\n",
        "print('{:.2f}%'.format((len(df_clean[df_clean.minimum_nights > 40])/df_clean.shape[0])*100))\n",
        "print('minimum_nights: valores acima de 50:')\n",
        "print('{} entradas'.format(len(df_clean[df_clean.minimum_nights > 50])))\n",
        "print('{:.2f}%'.format((len(df_clean[df_clean.minimum_nights > 50])/df_clean.shape[0])*100))"
      ],
      "execution_count": 9,
      "outputs": [
        {
          "output_type": "stream",
          "text": [
            "minimum_nights: valores acima de 10:\n",
            "496 entradas\n",
            "2.78%\n",
            "minimum_nights: valores acima de 20:\n",
            "270 entradas\n",
            "1.51%\n",
            "minimum_nights: valores acima de 30:\n",
            "95 entradas\n",
            "0.53%\n",
            "minimum_nights: valores acima de 40:\n",
            "87 entradas\n",
            "0.49%\n",
            "minimum_nights: valores acima de 50:\n",
            "78 entradas\n",
            "0.44%\n"
          ],
          "name": "stdout"
        },
        {
          "output_type": "display_data",
          "data": {
            "image/png": "[encoded data removed]",
            "text/plain": [
              "<Figure size 1080x216 with 1 Axes>"
            ]
          },
          "metadata": {
            "tags": [],
            "needs_background": "light"
          }
        }
      ]
    },
    {
      "cell_type": "markdown",
      "metadata": {
        "id": "lFkgrksUcDwT"
      },
      "source": [
        "Como podemos ver, a quantidade de dados para *30 noites* ou mais representa um total de *95* entradas, que representa *0.53%* do nosso volume de dados. Para diminuir o nosso alcance total e melhorar a visualização do nosso histograma, vamos emilinar esses dados.\n"
      ]
    },
    {
      "cell_type": "markdown",
      "metadata": {
        "id": "sENN96osfRmM"
      },
      "source": [
        "#####Q.3.1.2 Price"
      ]
    },
    {
      "cell_type": "code",
      "metadata": {
        "colab": {
          "base_uri": "https://localhost:8080/",
          "height": 466
        },
        "id": "WVdH9lTWdaDQ",
        "outputId": "11cef710-116e-4a38-c7cd-8a7ee4fc0991"
      },
      "source": [
        "#verificando outliers com Box_plot\n",
        "#price\n",
        "df_clean.price.plot(kind='box', vert=False, figsize=(15,3))\n",
        "\n",
        "#ver quantidade de valores acima de $400 para price\n",
        "print('price: valores acima de 400:')\n",
        "print('{} entradas'.format(len(df_clean[df_clean.price > 400])))\n",
        "print('{:.2f}%'.format((len(df_clean[df_clean.price > 400])/df_clean.shape[0])*100))\n",
        "print('price: valores acima de 500:')\n",
        "print('{} entradas'.format(len(df_clean[df_clean.price > 500])))\n",
        "print('{:.2f}%'.format((len(df_clean[df_clean.price > 500])/df_clean.shape[0])*100))\n",
        "print('price: valores acima de 600:')\n",
        "print('{} entradas'.format(len(df_clean[df_clean.price > 600])))\n",
        "print('{:.2f}%'.format((len(df_clean[df_clean.price > 600])/df_clean.shape[0])*100))\n",
        "print('price: valores acima de 700:')\n",
        "print('{} entradas'.format(len(df_clean[df_clean.price > 700])))\n",
        "print('{:.2f}%'.format((len(df_clean[df_clean.price > 700])/df_clean.shape[0])*100))\n",
        "print('price: valores acima de 800:')\n",
        "print('{} entradas'.format(len(df_clean[df_clean.price > 800])))\n",
        "print('{:.2f}%'.format((len(df_clean[df_clean.price > 800])/df_clean.shape[0])*100))"
      ],
      "execution_count": 10,
      "outputs": [
        {
          "output_type": "stream",
          "text": [
            "price: valores acima de 400:\n",
            "414 entradas\n",
            "2.32%\n",
            "price: valores acima de 500:\n",
            "195 entradas\n",
            "1.09%\n",
            "price: valores acima de 600:\n",
            "118 entradas\n",
            "0.66%\n",
            "price: valores acima de 700:\n",
            "95 entradas\n",
            "0.53%\n",
            "price: valores acima de 800:\n",
            "61 entradas\n",
            "0.34%\n"
          ],
          "name": "stdout"
        },
        {
          "output_type": "display_data",
          "data": {
            "image/png": "[encoded data removed]",
            "text/plain": [
              "<Figure size 1080x216 with 1 Axes>"
            ]
          },
          "metadata": {
            "tags": [],
            "needs_background": "light"
          }
        }
      ]
    },
    {
      "cell_type": "markdown",
      "metadata": {
        "id": "ADWobq7EgHHr"
      },
      "source": [
        "Como podemos ver, a quantidade de dados para *700$* ou mais representa um total de *95* entradas, que representa *0.53%* do nosso volume de dados. Para diminuir o nosso alcance total e melhorar a visualização do nosso histograma, vamos emilinar esses dados. Por coincidência os mesmos valores da análise anterior.\n"
      ]
    },
    {
      "cell_type": "markdown",
      "metadata": {
        "id": "2oiFY5RUh_v9"
      },
      "source": [
        "#####Q.3.1.3 number_of_reviews"
      ]
    },
    {
      "cell_type": "code",
      "metadata": {
        "colab": {
          "base_uri": "https://localhost:8080/",
          "height": 466
        },
        "id": "ChO2ioqqiafG",
        "outputId": "8663254f-6721-4e2b-effe-a3da8e6ac3c0"
      },
      "source": [
        "#verificando outliers com Box_plot\n",
        "#number_of_reviews\n",
        "df_clean.number_of_reviews.plot(kind='box', vert=False, figsize=(15,3))\n",
        "\n",
        "#ver quantidade de valores acima de 30 dias para number_of_reviews\n",
        "print('number_of_reviews: valores acima de 200:')\n",
        "print('{} entradas'.format(len(df_clean[df_clean.number_of_reviews > 200])))\n",
        "print('{:.2f}%'.format((len(df_clean[df_clean.number_of_reviews > 200])/df_clean.shape[0])*100))\n",
        "print('number_of_reviews: valores acima de 250:')\n",
        "print('{} entradas'.format(len(df_clean[df_clean.number_of_reviews > 250])))\n",
        "print('{:.2f}%'.format((len(df_clean[df_clean.number_of_reviews > 250])/df_clean.shape[0])*100))\n",
        "print('number_of_reviews: valores acima de 300:')\n",
        "print('{} entradas'.format(len(df_clean[df_clean.number_of_reviews > 300])))\n",
        "print('{:.2f}%'.format((len(df_clean[df_clean.number_of_reviews > 300])/df_clean.shape[0])*100))\n",
        "print('number_of_reviews: valores acima de 300:')\n",
        "print('{} entradas'.format(len(df_clean[df_clean.number_of_reviews > 300])))\n",
        "print('{:.2f}%'.format((len(df_clean[df_clean.number_of_reviews > 300])/df_clean.shape[0])*100))\n",
        "print('number_of_reviews: valores acima de 350:')\n",
        "print('{} entradas'.format(len(df_clean[df_clean.number_of_reviews > 350])))\n",
        "print('{:.2f}%'.format((len(df_clean[df_clean.number_of_reviews > 350])/df_clean.shape[0])*100))"
      ],
      "execution_count": 11,
      "outputs": [
        {
          "output_type": "stream",
          "text": [
            "number_of_reviews: valores acima de 200:\n",
            "371 entradas\n",
            "2.08%\n",
            "number_of_reviews: valores acima de 250:\n",
            "266 entradas\n",
            "1.49%\n",
            "number_of_reviews: valores acima de 300:\n",
            "163 entradas\n",
            "0.91%\n",
            "number_of_reviews: valores acima de 300:\n",
            "163 entradas\n",
            "0.91%\n",
            "number_of_reviews: valores acima de 350:\n",
            "110 entradas\n",
            "0.62%\n"
          ],
          "name": "stdout"
        },
        {
          "output_type": "display_data",
          "data": {
            "image/png": "[encoded data removed]",
            "text/plain": [
              "<Figure size 1080x216 with 1 Axes>"
            ]
          },
          "metadata": {
            "tags": [],
            "needs_background": "light"
          }
        }
      ]
    },
    {
      "cell_type": "markdown",
      "metadata": {
        "id": "Pb_TmzH9oZ_j"
      },
      "source": [
        "Como podemos ver, a quantidade de dados para *350 reviews* ou mais representa um total de *110* entradas, que representa *0.62%* do nosso volume de dados. Para diminuir o nosso alcance total e melhorar a visualização do nosso histograma, vamos emilinar esses dados. Por coincidência os mesmos valores da análise anterior.\n"
      ]
    },
    {
      "cell_type": "markdown",
      "metadata": {
        "id": "WdJs6XMCh_zK"
      },
      "source": [
        "#####Q.3.1.4 reviews_per_month"
      ]
    },
    {
      "cell_type": "code",
      "metadata": {
        "colab": {
          "base_uri": "https://localhost:8080/",
          "height": 466
        },
        "id": "cx4Q1tB6oqUb",
        "outputId": "585bfbb5-f2ea-47c5-ab5e-436b7bb3907c"
      },
      "source": [
        "#verificando outliers com Box_plot\n",
        "#reviews_per_month\n",
        "df_clean.reviews_per_month.plot(kind='box', vert=False, figsize=(15,3))\n",
        "\n",
        "#ver quantidade de valores acima de 3 reviews_per_month\n",
        "print('reviews_per_month: valores acima de 3:')\n",
        "print('{} entradas'.format(len(df_clean[df_clean.reviews_per_month > 3])))\n",
        "print('{:.2f}%'.format((len(df_clean[df_clean.reviews_per_month > 3])/df_clean.shape[0])*100))\n",
        "print('reviews_per_month: valores acima de 4:')\n",
        "print('{} entradas'.format(len(df_clean[df_clean.reviews_per_month > 4])))\n",
        "print('{:.2f}%'.format((len(df_clean[df_clean.reviews_per_month > 4])/df_clean.shape[0])*100))\n",
        "print('reviews_per_month: valores acima de 5:')\n",
        "print('{} entradas'.format(len(df_clean[df_clean.reviews_per_month > 5])))\n",
        "print('{:.2f}%'.format((len(df_clean[df_clean.reviews_per_month > 5])/df_clean.shape[0])*100))\n",
        "print('reviews_per_month: valores acima de 6:')\n",
        "print('{} entradas'.format(len(df_clean[df_clean.reviews_per_month > 6])))\n",
        "print('{:.2f}%'.format((len(df_clean[df_clean.reviews_per_month > 6])/df_clean.shape[0])*100))\n",
        "print('reviews_per_month: valores acima de 7:')\n",
        "print('{} entradas'.format(len(df_clean[df_clean.reviews_per_month > 7])))\n",
        "print('{:.2f}%'.format((len(df_clean[df_clean.reviews_per_month > 7])/df_clean.shape[0])*100))"
      ],
      "execution_count": 12,
      "outputs": [
        {
          "output_type": "stream",
          "text": [
            "reviews_per_month: valores acima de 3:\n",
            "570 entradas\n",
            "3.20%\n",
            "reviews_per_month: valores acima de 4:\n",
            "283 entradas\n",
            "1.59%\n",
            "reviews_per_month: valores acima de 5:\n",
            "134 entradas\n",
            "0.75%\n",
            "reviews_per_month: valores acima de 6:\n",
            "62 entradas\n",
            "0.35%\n",
            "reviews_per_month: valores acima de 7:\n",
            "32 entradas\n",
            "0.18%\n"
          ],
          "name": "stdout"
        },
        {
          "output_type": "display_data",
          "data": {
            "image/png": "[encoded data removed]",
            "text/plain": [
              "<Figure size 1080x216 with 1 Axes>"
            ]
          },
          "metadata": {
            "tags": [],
            "needs_background": "light"
          }
        }
      ]
    },
    {
      "cell_type": "markdown",
      "metadata": {
        "id": "NZel6kQNrvYv"
      },
      "source": [
        "Como podemos ver, a quantidade de dados para *5 reviews* ou mais representa um total de *134 entradas, que representa *0.75%* do nosso volume de dados. Para diminuir o nosso alcance total e melhorar a visualização do nosso histograma, vamos emilinar esses dados. Por coincidência os mesmos valores da análise anterior.\n"
      ]
    },
    {
      "cell_type": "markdown",
      "metadata": {
        "id": "m2-OxVCLiUT9"
      },
      "source": [
        "#####Q.3.1.5 calculated_host_listings_count"
      ]
    },
    {
      "cell_type": "code",
      "metadata": {
        "colab": {
          "base_uri": "https://localhost:8080/",
          "height": 466
        },
        "id": "ipoAUIzHr6w5",
        "outputId": "1813a232-6640-4543-c6df-c454038cf451"
      },
      "source": [
        "#verificando outliers com Box_plot\n",
        "#calculated_host_listings_count\n",
        "df_clean.calculated_host_listings_count.plot(kind='box', vert=False, figsize=(15,3))\n",
        "\n",
        "#ver quantidade de valores acima de 10 calculated_host_listings_count\n",
        "print('calculated_host_listings_count: valores acima de 10:')\n",
        "print('{} entradas'.format(len(df_clean[df_clean.calculated_host_listings_count > 10])))\n",
        "print('{:.2f}%'.format((len(df_clean[df_clean.calculated_host_listings_count > 10])/df_clean.shape[0])*100))\n",
        "print('calculated_host_listings_count: valores acima de 20:')\n",
        "print('{} entradas'.format(len(df_clean[df_clean.calculated_host_listings_count > 20])))\n",
        "print('{:.2f}%'.format((len(df_clean[df_clean.calculated_host_listings_count > 20])/df_clean.shape[0])*100))\n",
        "print('calculated_host_listings_count: valores acima de 30:')\n",
        "print('{} entradas'.format(len(df_clean[df_clean.calculated_host_listings_count > 30])))\n",
        "print('{:.2f}%'.format((len(df_clean[df_clean.calculated_host_listings_count > 30])/df_clean.shape[0])*100))\n",
        "print('calculated_host_listings_count: valores acima de 40:')\n",
        "print('{} entradas'.format(len(df_clean[df_clean.calculated_host_listings_count > 40])))\n",
        "print('{:.2f}%'.format((len(df_clean[df_clean.calculated_host_listings_count > 40])/df_clean.shape[0])*100))\n",
        "print('calculated_host_listings_count: valores acima de 50:')\n",
        "print('{} entradas'.format(len(df_clean[df_clean.calculated_host_listings_count > 50])))\n",
        "print('{:.2f}%'.format((len(df_clean[df_clean.calculated_host_listings_count > 50])/df_clean.shape[0])*100))"
      ],
      "execution_count": 13,
      "outputs": [
        {
          "output_type": "stream",
          "text": [
            "calculated_host_listings_count: valores acima de 10:\n",
            "610 entradas\n",
            "3.42%\n",
            "calculated_host_listings_count: valores acima de 20:\n",
            "354 entradas\n",
            "1.99%\n",
            "calculated_host_listings_count: valores acima de 30:\n",
            "284 entradas\n",
            "1.59%\n",
            "calculated_host_listings_count: valores acima de 40:\n",
            "218 entradas\n",
            "1.22%\n",
            "calculated_host_listings_count: valores acima de 50:\n",
            "218 entradas\n",
            "1.22%\n"
          ],
          "name": "stdout"
        },
        {
          "output_type": "display_data",
          "data": {
            "image/png": "[encoded data removed]",
            "text/plain": [
              "<Figure size 1080x216 with 1 Axes>"
            ]
          },
          "metadata": {
            "tags": [],
            "needs_background": "light"
          }
        }
      ]
    },
    {
      "cell_type": "markdown",
      "metadata": {
        "id": "h_XieUXtrulp"
      },
      "source": [
        "Como podemos ver, a quantidade de dados para *50 unidades* ou mais representa um total de *218* entradas, que representa *1.22%* do nosso volume de dados. Apesar de possuir outliers a granunalidade dos dados é menor que das outras colunas, portanto não iremos excluir dados baseados nessa coluna no momento.\n"
      ]
    },
    {
      "cell_type": "markdown",
      "metadata": {
        "id": "KBOCuVKVRBIM"
      },
      "source": [
        "####Q.3.2 Normalizando Outliers\n",
        "Já que identificamos *outliers* nas variáveis `number_of_reviews`, `reviews_per_month` e `calculated_host_listings_count`, vamos agora limpar o *DataFrame* delas e plotar novamente o histograma..\n",
        "\n",
        "\n"
      ]
    },
    {
      "cell_type": "code",
      "metadata": {
        "colab": {
          "base_uri": "https://localhost:8080/",
          "height": 607
        },
        "id": "NpK180B4RZIr",
        "outputId": "9453e6d0-bfd5-405e-ac94-17a56edbfed1"
      },
      "source": [
        "# remover os *outliers* em um novo DataFrame\n",
        "df_cleaned = df_clean.copy()\n",
        "df_cleaned.drop(df_cleaned[df_cleaned.minimum_nights > 30].index, axis=0, inplace=True)\n",
        "df_cleaned.drop(df_cleaned[df_cleaned.price > 700].index, axis=0, inplace=True)\n",
        "df_cleaned.drop(df_cleaned[df_cleaned.number_of_reviews > 350].index, axis=0, inplace=True)\n",
        "df_cleaned.drop(df_cleaned[df_cleaned.reviews_per_month > 5].index, axis=0, inplace=True)\n",
        "\n",
        "# plotar o histograma para as variáveis numéricas\n",
        "df_cleaned.hist(bins=15, figsize=(15,10));"
      ],
      "execution_count": 14,
      "outputs": [
        {
          "output_type": "display_data",
          "data": {
            "image/png": "[encoded data removed]",
            "text/plain": [
              "<Figure size 1080x720 with 12 Axes>"
            ]
          },
          "metadata": {
            "tags": [],
            "needs_background": "light"
          }
        }
      ]
    },
    {
      "cell_type": "code",
      "metadata": {
        "colab": {
          "base_uri": "https://localhost:8080/",
          "height": 607
        },
        "id": "FF0d939sSyPU",
        "outputId": "b4fd5170-4a92-4308-ee20-4f1979412680"
      },
      "source": [
        "# plotar o histograma das variáveis numéricas\n",
        "df_clean.hist(bins=15,figsize=(15,10));"
      ],
      "execution_count": 15,
      "outputs": [
        {
          "output_type": "display_data",
          "data": {
            "image/png": "[encoded data removed]",
            "text/plain": [
              "<Figure size 1080x720 with 12 Axes>"
            ]
          },
          "metadata": {
            "tags": [],
            "needs_background": "light"
          }
        }
      ]
    },
    {
      "cell_type": "markdown",
      "metadata": {
        "id": "7x4aw1j5wNmn"
      },
      "source": [
        "### **Q4. Qual a correlação existente entre as variáveis**"
      ]
    },
    {
      "cell_type": "markdown",
      "metadata": {
        "id": "2FyzC7ujX9id"
      },
      "source": [
        "Correlação significa que existe uma relação entre duas coisas. No nosso contexto, estamos buscando relação ou semelhança entre duas variáveis.\n",
        "\n",
        "Essa relação pode ser medida, e é função do coeficiente de correlação estabelecer qual a intensidade dela. Para identificar as correlações existentes entre as variáveis de interesse, vou:\n",
        "\n",
        "* Criar uma matriz de correlação\n",
        "* Gerar um *heatmap* a partir dessa matriz, usando a biblioteca `seaborn`"
      ]
    },
    {
      "cell_type": "code",
      "metadata": {
        "colab": {
          "base_uri": "https://localhost:8080/",
          "height": 235
        },
        "id": "PV7NX6LKYJnU",
        "outputId": "00358225-426d-4f12-a3a7-8a73519c8d77"
      },
      "source": [
        "# criar uma matriz de correlação\n",
        "corr = df_cleaned[['price', 'minimum_nights', 'number_of_reviews', 'reviews_per_month',\n",
        "    'calculated_host_listings_count', 'availability_365']].corr()\n",
        "\n",
        "display(corr)"
      ],
      "execution_count": 16,
      "outputs": [
        {
          "output_type": "display_data",
          "data": {
            "text/html": [
              "<div>\n",
              "<style scoped>\n",
              "    .dataframe tbody tr th:only-of-type {\n",
              "        vertical-align: middle;\n",
              "    }\n",
              "\n",
              "    .dataframe tbody tr th {\n",
              "        vertical-align: top;\n",
              "    }\n",
              "\n",
              "    .dataframe thead th {\n",
              "        text-align: right;\n",
              "    }\n",
              "</style>\n",
              "<table border=\"1\" class=\"dataframe\">\n",
              "  <thead>\n",
              "    <tr style=\"text-align: right;\">\n",
              "      <th></th>\n",
              "      <th>price</th>\n",
              "      <th>minimum_nights</th>\n",
              "      <th>number_of_reviews</th>\n",
              "      <th>reviews_per_month</th>\n",
              "      <th>calculated_host_listings_count</th>\n",
              "      <th>availability_365</th>\n",
              "    </tr>\n",
              "  </thead>\n",
              "  <tbody>\n",
              "    <tr>\n",
              "      <th>price</th>\n",
              "      <td>1.000000</td>\n",
              "      <td>-0.014237</td>\n",
              "      <td>-0.098161</td>\n",
              "      <td>-0.137408</td>\n",
              "      <td>0.070123</td>\n",
              "      <td>0.101283</td>\n",
              "    </tr>\n",
              "    <tr>\n",
              "      <th>minimum_nights</th>\n",
              "      <td>-0.014237</td>\n",
              "      <td>1.000000</td>\n",
              "      <td>-0.061724</td>\n",
              "      <td>-0.092631</td>\n",
              "      <td>-0.030589</td>\n",
              "      <td>0.020005</td>\n",
              "    </tr>\n",
              "    <tr>\n",
              "      <th>number_of_reviews</th>\n",
              "      <td>-0.098161</td>\n",
              "      <td>-0.061724</td>\n",
              "      <td>1.000000</td>\n",
              "      <td>0.862386</td>\n",
              "      <td>-0.027711</td>\n",
              "      <td>0.265945</td>\n",
              "    </tr>\n",
              "    <tr>\n",
              "      <th>reviews_per_month</th>\n",
              "      <td>-0.137408</td>\n",
              "      <td>-0.092631</td>\n",
              "      <td>0.862386</td>\n",
              "      <td>1.000000</td>\n",
              "      <td>-0.003762</td>\n",
              "      <td>0.325710</td>\n",
              "    </tr>\n",
              "    <tr>\n",
              "      <th>calculated_host_listings_count</th>\n",
              "      <td>0.070123</td>\n",
              "      <td>-0.030589</td>\n",
              "      <td>-0.027711</td>\n",
              "      <td>-0.003762</td>\n",
              "      <td>1.000000</td>\n",
              "      <td>0.017209</td>\n",
              "    </tr>\n",
              "    <tr>\n",
              "      <th>availability_365</th>\n",
              "      <td>0.101283</td>\n",
              "      <td>0.020005</td>\n",
              "      <td>0.265945</td>\n",
              "      <td>0.325710</td>\n",
              "      <td>0.017209</td>\n",
              "      <td>1.000000</td>\n",
              "    </tr>\n",
              "  </tbody>\n",
              "</table>\n",
              "</div>"
            ],
            "text/plain": [
              "                                   price  ...  availability_365\n",
              "price                           1.000000  ...          0.101283\n",
              "minimum_nights                 -0.014237  ...          0.020005\n",
              "number_of_reviews              -0.098161  ...          0.265945\n",
              "reviews_per_month              -0.137408  ...          0.325710\n",
              "calculated_host_listings_count  0.070123  ...          0.017209\n",
              "availability_365                0.101283  ...          1.000000\n",
              "\n",
              "[6 rows x 6 columns]"
            ]
          },
          "metadata": {
            "tags": []
          }
        }
      ]
    },
    {
      "cell_type": "code",
      "metadata": {
        "colab": {
          "base_uri": "https://localhost:8080/",
          "height": 541
        },
        "id": "OalYthJzYU1j",
        "outputId": "91156def-1527-4fed-dee2-4294b06cb37b"
      },
      "source": [
        "mask = np.zeros_like(corr)\n",
        "mask[np.triu_indices_from(mask)] = True\n",
        "with sns.axes_style(\"white\"):\n",
        "    f, ax = plt.subplots(figsize=(7, 7))\n",
        "    ax = sns.heatmap(corr, mask=mask, vmax=.3, square=True, linecolor='white', annot=True)\n"
      ],
      "execution_count": 17,
      "outputs": [
        {
          "output_type": "display_data",
          "data": {
            "image/png": "[encoded data removed]",
            "text/plain": [
              "<Figure size 504x504 with 2 Axes>"
            ]
          },
          "metadata": {
            "tags": []
          }
        }
      ]
    },
    {
      "cell_type": "markdown",
      "metadata": {
        "id": "7b6RMWpuHKN-"
      },
      "source": [
        "### **Q5. Qual o tipo de imóvel mais alugado no Airbnb?**"
      ]
    },
    {
      "cell_type": "code",
      "metadata": {
        "id": "ueLPNWvPHgfB",
        "colab": {
          "base_uri": "https://localhost:8080/"
        },
        "outputId": "bdd38a10-8a97-4238-e1c9-4dce3b0f67b5"
      },
      "source": [
        "# mostrar a quantidade de cada tipo de imóvel disponível\n",
        "df_cleaned.room_type.value_counts()"
      ],
      "execution_count": 18,
      "outputs": [
        {
          "output_type": "execute_result",
          "data": {
            "text/plain": [
              "Entire home/apt    13723\n",
              "Private room        3582\n",
              "Hotel room           114\n",
              "Shared room           47\n",
              "Name: room_type, dtype: int64"
            ]
          },
          "metadata": {
            "tags": []
          },
          "execution_count": 18
        }
      ]
    },
    {
      "cell_type": "code",
      "metadata": {
        "id": "EvwoO-XAHhIm",
        "colab": {
          "base_uri": "https://localhost:8080/"
        },
        "outputId": "dfb17e7d-0e82-4ebf-841f-b4e7959796a8"
      },
      "source": [
        "# mostrar a porcentagem de cada tipo de imóvel disponível\n",
        "df_clean.room_type.value_counts() / df_clean.shape[0]"
      ],
      "execution_count": 19,
      "outputs": [
        {
          "output_type": "execute_result",
          "data": {
            "text/plain": [
              "Entire home/apt    0.779579\n",
              "Private room       0.210715\n",
              "Hotel room         0.006957\n",
              "Shared room        0.002749\n",
              "Name: room_type, dtype: float64"
            ]
          },
          "metadata": {
            "tags": []
          },
          "execution_count": 19
        }
      ]
    },
    {
      "cell_type": "markdown",
      "metadata": {
        "id": "MFa5NbnLJMcd"
      },
      "source": [
        "### **Q6. Qual a localidade mais cara do dataset?**\n",
        "\n"
      ]
    },
    {
      "cell_type": "code",
      "metadata": {
        "id": "MD_xa143JZpi",
        "colab": {
          "base_uri": "https://localhost:8080/"
        },
        "outputId": "f6a3446b-c137-4e8f-9230-57270db53d8b"
      },
      "source": [
        "# ver preços por bairros, na média\n",
        "df_cleaned.groupby(['neighbourhood']).price.mean().sort_values(ascending=False)[:10]"
      ],
      "execution_count": 20,
      "outputs": [
        {
          "output_type": "execute_result",
          "data": {
            "text/plain": [
              "neighbourhood\n",
              "Centrum-Oost                172.393031\n",
              "Centrum-West                170.141293\n",
              "IJburg - Zeeburgereiland    167.101942\n",
              "Zuid                        163.806827\n",
              "De Pijp - Rivierenbuurt     157.675229\n",
              "Watergraafsmeer             148.811069\n",
              "Westerpark                  147.246544\n",
              "Oud-Noord                   146.982425\n",
              "De Baarsjes - Oud-West      146.828601\n",
              "Oud-Oost                    143.267730\n",
              "Name: price, dtype: float64"
            ]
          },
          "metadata": {
            "tags": []
          },
          "execution_count": 20
        }
      ]
    },
    {
      "cell_type": "code",
      "metadata": {
        "colab": {
          "base_uri": "https://localhost:8080/"
        },
        "id": "CLkjrVEVe_bP",
        "outputId": "1e177bb3-9219-426e-8ffc-9937e9bbbf69"
      },
      "source": [
        "# para plotar um gráfico de dipersão sobre o mapa da cidade é necessário definir as latitudes e longitudes máximas.\n",
        "\n",
        "BBox = ((df_cleaned.longitude.min(),   df_cleaned.longitude.max(),      \n",
        "         df_cleaned.latitude.min(), df_cleaned.latitude.max()))\n",
        "\n",
        "print(BBox)"
      ],
      "execution_count": 21,
      "outputs": [
        {
          "output_type": "stream",
          "text": [
            "(4.75493, 5.02799, 52.29034, 52.426390000000005)\n"
          ],
          "name": "stdout"
        }
      ]
    },
    {
      "cell_type": "code",
      "metadata": {
        "id": "P_ouoyL3iVbD",
        "colab": {
          "base_uri": "https://localhost:8080/",
          "height": 323
        },
        "outputId": "ba88625c-bd18-4d25-a635-20d49fd9dad9"
      },
      "source": [
        "# carregar imagem do mapa da cidade\n",
        "ams_m = plt.imread('/content/amsterdam.png')"
      ],
      "execution_count": 22,
      "outputs": [
        {
          "output_type": "error",
          "ename": "FileNotFoundError",
          "evalue": "ignored",
          "traceback": [
            "\u001b[0;31m---------------------------------------------------------------------------\u001b[0m",
            "\u001b[0;31mFileNotFoundError\u001b[0m                         Traceback (most recent call last)",
            "\u001b[0;32m<ipython-input-22-546dbad84291>\u001b[0m in \u001b[0;36m<module>\u001b[0;34m()\u001b[0m\n\u001b[1;32m      1\u001b[0m \u001b[0;31m# carregar imagem do mapa da cidade\u001b[0m\u001b[0;34m\u001b[0m\u001b[0;34m\u001b[0m\u001b[0;34m\u001b[0m\u001b[0m\n\u001b[0;32m----> 2\u001b[0;31m \u001b[0mams_m\u001b[0m \u001b[0;34m=\u001b[0m \u001b[0mplt\u001b[0m\u001b[0;34m.\u001b[0m\u001b[0mimread\u001b[0m\u001b[0;34m(\u001b[0m\u001b[0;34m'/content/amsterdam.png'\u001b[0m\u001b[0;34m)\u001b[0m\u001b[0;34m\u001b[0m\u001b[0;34m\u001b[0m\u001b[0m\n\u001b[0m",
            "\u001b[0;32m/usr/local/lib/python3.7/dist-packages/matplotlib/pyplot.py\u001b[0m in \u001b[0;36mimread\u001b[0;34m(fname, format)\u001b[0m\n\u001b[1;32m   2059\u001b[0m \u001b[0;34m@\u001b[0m\u001b[0mdocstring\u001b[0m\u001b[0;34m.\u001b[0m\u001b[0mcopy\u001b[0m\u001b[0;34m(\u001b[0m\u001b[0mmatplotlib\u001b[0m\u001b[0;34m.\u001b[0m\u001b[0mimage\u001b[0m\u001b[0;34m.\u001b[0m\u001b[0mimread\u001b[0m\u001b[0;34m)\u001b[0m\u001b[0;34m\u001b[0m\u001b[0;34m\u001b[0m\u001b[0m\n\u001b[1;32m   2060\u001b[0m \u001b[0;32mdef\u001b[0m \u001b[0mimread\u001b[0m\u001b[0;34m(\u001b[0m\u001b[0mfname\u001b[0m\u001b[0;34m,\u001b[0m \u001b[0mformat\u001b[0m\u001b[0;34m=\u001b[0m\u001b[0;32mNone\u001b[0m\u001b[0;34m)\u001b[0m\u001b[0;34m:\u001b[0m\u001b[0;34m\u001b[0m\u001b[0;34m\u001b[0m\u001b[0m\n\u001b[0;32m-> 2061\u001b[0;31m     \u001b[0;32mreturn\u001b[0m \u001b[0mmatplotlib\u001b[0m\u001b[0;34m.\u001b[0m\u001b[0mimage\u001b[0m\u001b[0;34m.\u001b[0m\u001b[0mimread\u001b[0m\u001b[0;34m(\u001b[0m\u001b[0mfname\u001b[0m\u001b[0;34m,\u001b[0m \u001b[0mformat\u001b[0m\u001b[0;34m)\u001b[0m\u001b[0;34m\u001b[0m\u001b[0;34m\u001b[0m\u001b[0m\n\u001b[0m\u001b[1;32m   2062\u001b[0m \u001b[0;34m\u001b[0m\u001b[0m\n\u001b[1;32m   2063\u001b[0m \u001b[0;34m\u001b[0m\u001b[0m\n",
            "\u001b[0;32m/usr/local/lib/python3.7/dist-packages/matplotlib/image.py\u001b[0m in \u001b[0;36mimread\u001b[0;34m(fname, format)\u001b[0m\n\u001b[1;32m   1472\u001b[0m             \u001b[0mfd\u001b[0m \u001b[0;34m=\u001b[0m \u001b[0mBytesIO\u001b[0m\u001b[0;34m(\u001b[0m\u001b[0mrequest\u001b[0m\u001b[0;34m.\u001b[0m\u001b[0murlopen\u001b[0m\u001b[0;34m(\u001b[0m\u001b[0mfname\u001b[0m\u001b[0;34m)\u001b[0m\u001b[0;34m.\u001b[0m\u001b[0mread\u001b[0m\u001b[0;34m(\u001b[0m\u001b[0;34m)\u001b[0m\u001b[0;34m)\u001b[0m\u001b[0;34m\u001b[0m\u001b[0;34m\u001b[0m\u001b[0m\n\u001b[1;32m   1473\u001b[0m             \u001b[0;32mreturn\u001b[0m \u001b[0m_png\u001b[0m\u001b[0;34m.\u001b[0m\u001b[0mread_png\u001b[0m\u001b[0;34m(\u001b[0m\u001b[0mfd\u001b[0m\u001b[0;34m)\u001b[0m\u001b[0;34m\u001b[0m\u001b[0;34m\u001b[0m\u001b[0m\n\u001b[0;32m-> 1474\u001b[0;31m     \u001b[0;32mwith\u001b[0m \u001b[0mcbook\u001b[0m\u001b[0;34m.\u001b[0m\u001b[0mopen_file_cm\u001b[0m\u001b[0;34m(\u001b[0m\u001b[0mfname\u001b[0m\u001b[0;34m,\u001b[0m \u001b[0;34m\"rb\"\u001b[0m\u001b[0;34m)\u001b[0m \u001b[0;32mas\u001b[0m \u001b[0mfile\u001b[0m\u001b[0;34m:\u001b[0m\u001b[0;34m\u001b[0m\u001b[0;34m\u001b[0m\u001b[0m\n\u001b[0m\u001b[1;32m   1475\u001b[0m         \u001b[0;32mreturn\u001b[0m \u001b[0m_png\u001b[0m\u001b[0;34m.\u001b[0m\u001b[0mread_png\u001b[0m\u001b[0;34m(\u001b[0m\u001b[0mfile\u001b[0m\u001b[0;34m)\u001b[0m\u001b[0;34m\u001b[0m\u001b[0;34m\u001b[0m\u001b[0m\n\u001b[1;32m   1476\u001b[0m \u001b[0;34m\u001b[0m\u001b[0m\n",
            "\u001b[0;32m/usr/lib/python3.7/contextlib.py\u001b[0m in \u001b[0;36m__enter__\u001b[0;34m(self)\u001b[0m\n\u001b[1;32m    110\u001b[0m         \u001b[0;32mdel\u001b[0m \u001b[0mself\u001b[0m\u001b[0;34m.\u001b[0m\u001b[0margs\u001b[0m\u001b[0;34m,\u001b[0m \u001b[0mself\u001b[0m\u001b[0;34m.\u001b[0m\u001b[0mkwds\u001b[0m\u001b[0;34m,\u001b[0m \u001b[0mself\u001b[0m\u001b[0;34m.\u001b[0m\u001b[0mfunc\u001b[0m\u001b[0;34m\u001b[0m\u001b[0;34m\u001b[0m\u001b[0m\n\u001b[1;32m    111\u001b[0m         \u001b[0;32mtry\u001b[0m\u001b[0;34m:\u001b[0m\u001b[0;34m\u001b[0m\u001b[0;34m\u001b[0m\u001b[0m\n\u001b[0;32m--> 112\u001b[0;31m             \u001b[0;32mreturn\u001b[0m \u001b[0mnext\u001b[0m\u001b[0;34m(\u001b[0m\u001b[0mself\u001b[0m\u001b[0;34m.\u001b[0m\u001b[0mgen\u001b[0m\u001b[0;34m)\u001b[0m\u001b[0;34m\u001b[0m\u001b[0;34m\u001b[0m\u001b[0m\n\u001b[0m\u001b[1;32m    113\u001b[0m         \u001b[0;32mexcept\u001b[0m \u001b[0mStopIteration\u001b[0m\u001b[0;34m:\u001b[0m\u001b[0;34m\u001b[0m\u001b[0;34m\u001b[0m\u001b[0m\n\u001b[1;32m    114\u001b[0m             \u001b[0;32mraise\u001b[0m \u001b[0mRuntimeError\u001b[0m\u001b[0;34m(\u001b[0m\u001b[0;34m\"generator didn't yield\"\u001b[0m\u001b[0;34m)\u001b[0m \u001b[0;32mfrom\u001b[0m \u001b[0;32mNone\u001b[0m\u001b[0;34m\u001b[0m\u001b[0;34m\u001b[0m\u001b[0m\n",
            "\u001b[0;32m/usr/local/lib/python3.7/dist-packages/matplotlib/cbook/__init__.py\u001b[0m in \u001b[0;36mopen_file_cm\u001b[0;34m(path_or_file, mode, encoding)\u001b[0m\n\u001b[1;32m    416\u001b[0m \u001b[0;32mdef\u001b[0m \u001b[0mopen_file_cm\u001b[0m\u001b[0;34m(\u001b[0m\u001b[0mpath_or_file\u001b[0m\u001b[0;34m,\u001b[0m \u001b[0mmode\u001b[0m\u001b[0;34m=\u001b[0m\u001b[0;34m\"r\"\u001b[0m\u001b[0;34m,\u001b[0m \u001b[0mencoding\u001b[0m\u001b[0;34m=\u001b[0m\u001b[0;32mNone\u001b[0m\u001b[0;34m)\u001b[0m\u001b[0;34m:\u001b[0m\u001b[0;34m\u001b[0m\u001b[0;34m\u001b[0m\u001b[0m\n\u001b[1;32m    417\u001b[0m     \u001b[0;34mr\"\"\"Pass through file objects and context-manage `.PathLike`\\s.\"\"\"\u001b[0m\u001b[0;34m\u001b[0m\u001b[0;34m\u001b[0m\u001b[0m\n\u001b[0;32m--> 418\u001b[0;31m     \u001b[0mfh\u001b[0m\u001b[0;34m,\u001b[0m \u001b[0mopened\u001b[0m \u001b[0;34m=\u001b[0m \u001b[0mto_filehandle\u001b[0m\u001b[0;34m(\u001b[0m\u001b[0mpath_or_file\u001b[0m\u001b[0;34m,\u001b[0m \u001b[0mmode\u001b[0m\u001b[0;34m,\u001b[0m \u001b[0;32mTrue\u001b[0m\u001b[0;34m,\u001b[0m \u001b[0mencoding\u001b[0m\u001b[0;34m)\u001b[0m\u001b[0;34m\u001b[0m\u001b[0;34m\u001b[0m\u001b[0m\n\u001b[0m\u001b[1;32m    419\u001b[0m     \u001b[0;32mif\u001b[0m \u001b[0mopened\u001b[0m\u001b[0;34m:\u001b[0m\u001b[0;34m\u001b[0m\u001b[0;34m\u001b[0m\u001b[0m\n\u001b[1;32m    420\u001b[0m         \u001b[0;32mwith\u001b[0m \u001b[0mfh\u001b[0m\u001b[0;34m:\u001b[0m\u001b[0;34m\u001b[0m\u001b[0;34m\u001b[0m\u001b[0m\n",
            "\u001b[0;32m/usr/local/lib/python3.7/dist-packages/matplotlib/cbook/__init__.py\u001b[0m in \u001b[0;36mto_filehandle\u001b[0;34m(fname, flag, return_opened, encoding)\u001b[0m\n\u001b[1;32m    401\u001b[0m             \u001b[0mfh\u001b[0m \u001b[0;34m=\u001b[0m \u001b[0mbz2\u001b[0m\u001b[0;34m.\u001b[0m\u001b[0mBZ2File\u001b[0m\u001b[0;34m(\u001b[0m\u001b[0mfname\u001b[0m\u001b[0;34m,\u001b[0m \u001b[0mflag\u001b[0m\u001b[0;34m)\u001b[0m\u001b[0;34m\u001b[0m\u001b[0;34m\u001b[0m\u001b[0m\n\u001b[1;32m    402\u001b[0m         \u001b[0;32melse\u001b[0m\u001b[0;34m:\u001b[0m\u001b[0;34m\u001b[0m\u001b[0;34m\u001b[0m\u001b[0m\n\u001b[0;32m--> 403\u001b[0;31m             \u001b[0mfh\u001b[0m \u001b[0;34m=\u001b[0m \u001b[0mopen\u001b[0m\u001b[0;34m(\u001b[0m\u001b[0mfname\u001b[0m\u001b[0;34m,\u001b[0m \u001b[0mflag\u001b[0m\u001b[0;34m,\u001b[0m \u001b[0mencoding\u001b[0m\u001b[0;34m=\u001b[0m\u001b[0mencoding\u001b[0m\u001b[0;34m)\u001b[0m\u001b[0;34m\u001b[0m\u001b[0;34m\u001b[0m\u001b[0m\n\u001b[0m\u001b[1;32m    404\u001b[0m         \u001b[0mopened\u001b[0m \u001b[0;34m=\u001b[0m \u001b[0;32mTrue\u001b[0m\u001b[0;34m\u001b[0m\u001b[0;34m\u001b[0m\u001b[0m\n\u001b[1;32m    405\u001b[0m     \u001b[0;32melif\u001b[0m \u001b[0mhasattr\u001b[0m\u001b[0;34m(\u001b[0m\u001b[0mfname\u001b[0m\u001b[0;34m,\u001b[0m \u001b[0;34m'seek'\u001b[0m\u001b[0;34m)\u001b[0m\u001b[0;34m:\u001b[0m\u001b[0;34m\u001b[0m\u001b[0;34m\u001b[0m\u001b[0m\n",
            "\u001b[0;31mFileNotFoundError\u001b[0m: [Errno 2] No such file or directory: '/content/amsterdam.png'"
          ]
        }
      ]
    },
    {
      "cell_type": "code",
      "metadata": {
        "id": "x9yZdkTxiswc"
      },
      "source": [
        "fig, ax = plt.subplots(figsize = (20,20))\n",
        "ax.scatter(df_cleaned.longitude, df_cleaned.latitude, zorder=1, alpha= 0.2, c='b', s=10)\n",
        "ax.set_title('Plotting Spatial Data on Amsterdam Map')\n",
        "ax.set_xlim(BBox[0],BBox[1])\n",
        "ax.set_ylim(BBox[2],BBox[3])\n",
        "ax.imshow(ams_m, zorder=0, extent = BBox, aspect= 'equal')"
      ],
      "execution_count": null,
      "outputs": []
    },
    {
      "cell_type": "markdown",
      "metadata": {
        "id": "vTneAMRUYvr1"
      },
      "source": [
        "### **Q7. Qual é a média do mínimo de noites para aluguel (minimum_nights)?**"
      ]
    },
    {
      "cell_type": "code",
      "metadata": {
        "id": "_VzNhrEgY82N"
      },
      "source": [
        "# ver a média da coluna `minimum_nights``\n",
        "df_cleaned.minimum_nights.mean()"
      ],
      "execution_count": null,
      "outputs": []
    },
    {
      "cell_type": "code",
      "metadata": {
        "id": "giNGUH2Snuhx"
      },
      "source": [
        "df_cleaned.minimum_nights.value_counts().sort_values(ascending=False)[:30]"
      ],
      "execution_count": null,
      "outputs": []
    },
    {
      "cell_type": "markdown",
      "metadata": {
        "id": "GkvAg623RjoR"
      },
      "source": [
        "## Conclusões\n"
      ]
    },
    {
      "cell_type": "markdown",
      "metadata": {
        "id": "rbZ3Hsy9Ypw8"
      },
      "source": [
        ""
      ]
    }
  ]
}